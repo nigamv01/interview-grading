{
 "cells": [
  {
   "cell_type": "code",
   "execution_count": 0,
   "metadata": {
    "application/vnd.databricks.v1+cell": {
     "cellMetadata": {},
     "inputWidgets": {},
     "nuid": "bb427495-6288-4a72-8571-de4f01431451",
     "showTitle": false,
     "tableResultSettingsMap": {},
     "title": ""
    }
   },
   "outputs": [],
   "source": [
    "import base64\n",
    "\n",
    "import databricks.sdk\n",
    "from databricks.sdk.service.workspace import ImportFormat\n",
    "import nbformat\n",
    "import numpy as np \n",
    "\n",
    "import pandas as pd\n",
    "import dspy"
   ]
  },
  {
   "cell_type": "code",
   "execution_count": 0,
   "metadata": {
    "application/vnd.databricks.v1+cell": {
     "cellMetadata": {},
     "inputWidgets": {},
     "nuid": "ffcd0c40-7278-4e08-aac8-274e178e72ab",
     "showTitle": false,
     "tableResultSettingsMap": {},
     "title": ""
    }
   },
   "outputs": [],
   "source": [
    "class Module(dspy.Module):\n",
    "  def __init__(self, workspace_client):\n",
    "    self.workspace_client = workspace_client\n",
    "    self.module_dict = None\n",
    "\n",
    "  def get_module_dict(self):\n",
    "    return self.module_dict\n",
    "  \n",
    "  def set_module_dict(self, module_dict):\n",
    "    self.module_dict = module_dict\n",
    "\n",
    "  def get_code_from_notebooks(self, notebook_path):\n",
    "    notebook = self.workspace_client.workspace.export(notebook_path, \n",
    "                                      format=ImportFormat.JUPYTER)\n",
    "    ipynb = base64.decodebytes(notebook.content.encode('ascii')).decode(\"utf-8\")\n",
    "    notebook = nbformat.reads(ipynb, as_version=4)\n",
    "    code_dict = {}\n",
    "    x=0\n",
    "    for cell in notebook.cells:\n",
    "        if cell.cell_type == 'code' or cell.cell_type == 'markdown':\n",
    "          code_dict[x] = cell.source\n",
    "          x+=1\n",
    "    context = ''.join(code_dict.values())\n",
    "    return context\n",
    "  \n",
    "  def evaluate_responses(self, context):\n",
    "    answer_list = []\n",
    "    for k,module in self.module_dict.items():\n",
    "      response = module(text=context)\n",
    "      response_dict = {\n",
    "        'score': response.score,\n",
    "        'reasoning': response.reasoning,\n",
    "        'code_snippet': response.code_snippet\n",
    "      }\n",
    "      # print(response_dict)\n",
    "      answer_list.append(response_dict)\n",
    "    answer_list_df = pd.DataFrame(answer_list)\n",
    "\n",
    "    return answer_list_df\n",
    "  \n",
    "  def get_error_and_answer_dict(self, context_path, human_answers_list, table_name, section, candidate):\n",
    "  \n",
    "    context = self.get_code_from_notebooks(context_path)\n",
    "    answers = self.evaluate_responses(context)\n",
    "    answers['candidate'] = candidate\n",
    "    answers['secton'] = section\n",
    "    answers['score'] = answers['score'].astype('float64')\n",
    "    spark.createDataFrame(answers).write.mode(\"append\").saveAsTable(table_name)\n",
    "\n",
    "    model_asnwers_list = answers['score'].tolist()\n",
    "    diff = [human_answers_list[i] - model_asnwers_list[i] for i in range(len(human_answers_list))]\n",
    "    \n",
    "    abs_error = np.abs(diff).sum()\n",
    "    inaccurate_predictions = len([x for x in diff if x != 0])\n",
    "\n",
    "    error_dict = {'abs_error': abs_error, 'inaccurate_predictions': inaccurate_predictions, 'context': diff}\n",
    "\n",
    "    return {\n",
    "      'error_dict': error_dict,\n",
    "      'answers_dict': answers\n",
    "    }"
   ]
  }
 ],
 "metadata": {
  "application/vnd.databricks.v1+notebook": {
   "computePreferences": null,
   "dashboards": [],
   "environmentMetadata": {
    "base_environment": "",
    "environment_version": "2"
   },
   "language": "python",
   "notebookMetadata": {
    "pythonIndentUnit": 2
   },
   "notebookName": "GradingModule",
   "widgets": {}
  },
  "language_info": {
   "name": "python"
  }
 },
 "nbformat": 4,
 "nbformat_minor": 0
}
