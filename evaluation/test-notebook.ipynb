{
 "cells": [
  {
   "cell_type": "code",
   "execution_count": 0,
   "metadata": {
    "application/vnd.databricks.v1+cell": {
     "cellMetadata": {
      "byteLimit": 2048000,
      "rowLimit": 10000
     },
     "inputWidgets": {},
     "nuid": "8a82f190-dbec-428c-b8a8-991f921373dd",
     "showTitle": false,
     "tableResultSettingsMap": {},
     "title": ""
    }
   },
   "outputs": [],
   "source": [
    "%pip install nbformat databricks-sdk[openai]==0.38.0 dspy --quiet\n",
    "dbutils.library.restartPython()"
   ]
  },
  {
   "cell_type": "code",
   "execution_count": 0,
   "metadata": {
    "application/vnd.databricks.v1+cell": {
     "cellMetadata": {
      "byteLimit": 2048000,
      "rowLimit": 10000
     },
     "inputWidgets": {},
     "nuid": "4883b84e-85d4-43a5-ba42-cd1e50c8e3f8",
     "showTitle": false,
     "tableResultSettingsMap": {},
     "title": ""
    }
   },
   "outputs": [],
   "source": [
    "%run ../helper/GradingModule"
   ]
  },
  {
   "cell_type": "code",
   "execution_count": 0,
   "metadata": {
    "application/vnd.databricks.v1+cell": {
     "cellMetadata": {
      "byteLimit": 2048000,
      "rowLimit": 10000
     },
     "inputWidgets": {},
     "nuid": "cf1fd060-05c3-4f9e-8f7c-fd960a8223b6",
     "showTitle": false,
     "tableResultSettingsMap": {},
     "title": ""
    }
   },
   "outputs": [],
   "source": [
    "class SQLPrompt1(dspy.Signature):\n",
    "  \"\"\" Check if the provided context has any code snippet which creates a table/view called workloads and get shcema of workloads \"\"\"\n",
    "\n",
    "  text: str = dspy.InputField()\n",
    "\n",
    "  score: str = dspy.OutputField(desc=\"15 if any code snippet below creates a table/view and displays its schema, 7.5 if it creates a table/view but does not display its schema,  0 if no code snippet creates a table/view\")\n",
    "\n",
    "  code_snippet: str = dspy.OutputField(desc=\"provide the code snippet which creates a table/view and displays its schema encapsulated as a string\")"
   ]
  },
  {
   "cell_type": "code",
   "execution_count": 0,
   "metadata": {
    "application/vnd.databricks.v1+cell": {
     "cellMetadata": {
      "byteLimit": 2048000,
      "rowLimit": 10000
     },
     "inputWidgets": {},
     "nuid": "f2f9a665-d414-4265-8b1e-ed810a6765b7",
     "showTitle": false,
     "tableResultSettingsMap": {},
     "title": ""
    }
   },
   "outputs": [],
   "source": [
    "x = dspy.ChainOfThought(SQLPrompt1)"
   ]
  },
  {
   "cell_type": "code",
   "execution_count": 0,
   "metadata": {
    "application/vnd.databricks.v1+cell": {
     "cellMetadata": {
      "byteLimit": 2048000,
      "rowLimit": 10000
     },
     "inputWidgets": {},
     "nuid": "1b5f66ed-98a4-4565-9cce-e6a9c0d2b8bb",
     "showTitle": false,
     "tableResultSettingsMap": {},
     "title": ""
    }
   },
   "outputs": [],
   "source": [
    "x.__dict__['predict'].__dict__['signature'].instructions"
   ]
  },
  {
   "cell_type": "code",
   "execution_count": 0,
   "metadata": {
    "application/vnd.databricks.v1+cell": {
     "cellMetadata": {
      "byteLimit": 2048000,
      "rowLimit": 10000
     },
     "inputWidgets": {},
     "nuid": "e122d1f3-d8e0-463e-88f4-2f2dd709ad49",
     "showTitle": false,
     "tableResultSettingsMap": {},
     "title": ""
    }
   },
   "outputs": [],
   "source": [
    "help(dspy.ChainOfThought)"
   ]
  },
  {
   "cell_type": "code",
   "execution_count": 0,
   "metadata": {
    "application/vnd.databricks.v1+cell": {
     "cellMetadata": {
      "byteLimit": 2048000,
      "rowLimit": 10000
     },
     "inputWidgets": {},
     "nuid": "a5f4ac4b-cb8f-45db-9ca7-d9409e19c09d",
     "showTitle": false,
     "tableResultSettingsMap": {},
     "title": ""
    }
   },
   "outputs": [],
   "source": [
    "class Answer(dspy.Signature):\n",
    "  score: int = dspy.OutputField(desc=\"The score provided by the model\")\n",
    "  reasoning: str = dspy.OutputField(desc=\"The reason provided by the model for the score\")\n",
    "  code_snippet: str = dspy.OutputField(desc=\"\"\" supporting code snippet provided by the model for the score \"\"\")"
   ]
  },
  {
   "cell_type": "code",
   "execution_count": 0,
   "metadata": {
    "application/vnd.databricks.v1+cell": {
     "cellMetadata": {
      "byteLimit": 2048000,
      "rowLimit": 10000
     },
     "inputWidgets": {},
     "nuid": "71161f4d-afc8-400d-9ad1-1f9427c4e367",
     "showTitle": false,
     "tableResultSettingsMap": {},
     "title": ""
    }
   },
   "outputs": [],
   "source": [
    "# Create a prediction\n",
    "actual_output = Answer(\n",
    "    score=\"15\",\n",
    "    reasoning=\"The code snippet provided creates a temporary Spark SQL view called \\\"workloads\\\" from the JSON files in the specified directory. The schema of this table can be obtained using the `DESCRIBE` command or the `printSchema()` method in Python\",\n",
    "    code_snippet=\"\"\" ```python\n",
    "                      df = (spark.read\n",
    "                        .format(\"json\")\n",
    "                        .option(\"header\", \"true\")\n",
    "                        .option(\"inferSchema\", \"true\")\n",
    "                        .load(\"/databricks-coding-challenge/workloads/\")\n",
    "                      )\n",
    "                      df.createOrReplaceTempView(\"workloads\")\n",
    "\n",
    "                      # Get the schema of the table\n",
    "                      desc workloads\n",
    "                      ``` \"\"\"\n",
    ")"
   ]
  },
  {
   "cell_type": "code",
   "execution_count": 0,
   "metadata": {
    "application/vnd.databricks.v1+cell": {
     "cellMetadata": {
      "byteLimit": 2048000,
      "rowLimit": 10000
     },
     "inputWidgets": {},
     "nuid": "fe050ae9-f3e0-42b9-80a8-5144beecaeee",
     "showTitle": false,
     "tableResultSettingsMap": {},
     "title": ""
    }
   },
   "outputs": [],
   "source": [
    "qa_pair = dspy.Example(question=SQLPrompt1, answer=actual_output)"
   ]
  },
  {
   "cell_type": "code",
   "execution_count": 0,
   "metadata": {
    "application/vnd.databricks.v1+cell": {
     "cellMetadata": {
      "byteLimit": 2048000,
      "rowLimit": 10000
     },
     "inputWidgets": {},
     "nuid": "9f9cb0c1-89a6-4488-af39-41c4d3b8d653",
     "showTitle": false,
     "tableResultSettingsMap": {},
     "title": ""
    }
   },
   "outputs": [],
   "source": [
    "module = Module(databricks.sdk.WorkspaceClient())"
   ]
  },
  {
   "cell_type": "code",
   "execution_count": 0,
   "metadata": {
    "application/vnd.databricks.v1+cell": {
     "cellMetadata": {
      "byteLimit": 2048000,
      "rowLimit": 10000
     },
     "inputWidgets": {},
     "nuid": "23851735-69b5-4159-ab11-cf1178e67208",
     "showTitle": false,
     "tableResultSettingsMap": {},
     "title": ""
    }
   },
   "outputs": [],
   "source": [
    "module.set_module_dict({'module_1': dspy.ChainOfThought(SQLPrompt1)})"
   ]
  },
  {
   "cell_type": "code",
   "execution_count": 0,
   "metadata": {
    "application/vnd.databricks.v1+cell": {
     "cellMetadata": {
      "byteLimit": 2048000,
      "rowLimit": 10000
     },
     "inputWidgets": {},
     "nuid": "ee040399-add3-44b2-ae01-f0f9f5bae0ce",
     "showTitle": false,
     "tableResultSettingsMap": {},
     "title": ""
    }
   },
   "outputs": [],
   "source": [
    "candidate_dict = [\n",
    "  (\"X\",\"/Workspace/Users/vibhor.nigam@databricks.com/interview-scripts/interview-grading/example-notebooks-sql/01-SQL-X\")\n",
    "]\n",
    "\n",
    "human_graded_dict = {\n",
    "  \"X\": [15]\n",
    "}\n",
    "# w = databricks.sdk.WorkspaceClient()"
   ]
  },
  {
   "cell_type": "code",
   "execution_count": 0,
   "metadata": {
    "application/vnd.databricks.v1+cell": {
     "cellMetadata": {
      "byteLimit": 2048000,
      "rowLimit": 10000
     },
     "inputWidgets": {},
     "nuid": "32f5ce6b-7521-41a7-9414-e2eb4ebb1ac1",
     "showTitle": false,
     "tableResultSettingsMap": {},
     "title": ""
    }
   },
   "outputs": [],
   "source": [
    "lm = dspy.LM('databricks/databricks-meta-llama-3-3-70b-instruct')\n",
    "dspy.settings.configure(lm=lm)"
   ]
  },
  {
   "cell_type": "code",
   "execution_count": 0,
   "metadata": {
    "application/vnd.databricks.v1+cell": {
     "cellMetadata": {
      "byteLimit": 2048000,
      "rowLimit": 10000
     },
     "inputWidgets": {},
     "nuid": "7c2946a7-5608-436d-8605-a8ae2a64bbc7",
     "showTitle": false,
     "tableResultSettingsMap": {},
     "title": ""
    }
   },
   "outputs": [],
   "source": [
    "context_path = candidate_dict[0][1]\n",
    "human_answers_list = human_graded_dict[candidate_dict[0][0]]\n",
    "table_name = \"users.abhay_jalisatgi.gen_ai_eval\"\n",
    "section = \"SQL\"\n",
    "candidate = \"X\"\n",
    "\n",
    "print(f\"Context path: {context_path}\\n, Human answers list: {human_answers_list}\\n, Table name: {table_name}\\n, Section: {section}\\n, Candidate: {candidate}\\n\")"
   ]
  },
  {
   "cell_type": "code",
   "execution_count": 0,
   "metadata": {
    "application/vnd.databricks.v1+cell": {
     "cellMetadata": {
      "byteLimit": 2048000,
      "rowLimit": 10000
     },
     "inputWidgets": {},
     "nuid": "d960767a-63a4-4af1-a45a-931837616103",
     "showTitle": false,
     "tableResultSettingsMap": {},
     "title": ""
    }
   },
   "outputs": [],
   "source": [
    "results = module.get_error_and_answer_dict(context_path, human_answers_list, table_name, section, candidate)"
   ]
  },
  {
   "cell_type": "code",
   "execution_count": 0,
   "metadata": {
    "application/vnd.databricks.v1+cell": {
     "cellMetadata": {
      "byteLimit": 2048000,
      "rowLimit": 10000
     },
     "inputWidgets": {},
     "nuid": "4d478faa-43cb-4ec9-a084-c3a294388d90",
     "showTitle": false,
     "tableResultSettingsMap": {},
     "title": ""
    }
   },
   "outputs": [],
   "source": [
    "results['answers_dict']"
   ]
  },
  {
   "cell_type": "code",
   "execution_count": 0,
   "metadata": {
    "application/vnd.databricks.v1+cell": {
     "cellMetadata": {
      "byteLimit": 2048000,
      "rowLimit": 10000
     },
     "inputWidgets": {},
     "nuid": "4b9dc744-3e45-4b1f-92d3-289907ae3b0f",
     "showTitle": false,
     "tableResultSettingsMap": {},
     "title": ""
    }
   },
   "outputs": [],
   "source": [
    "qa_pair.answer.score"
   ]
  },
  {
   "cell_type": "code",
   "execution_count": 0,
   "metadata": {
    "application/vnd.databricks.v1+cell": {
     "cellMetadata": {
      "byteLimit": 2048000,
      "rowLimit": 10000
     },
     "inputWidgets": {},
     "nuid": "5940817c-b92e-4b7c-9661-16a09f34c022",
     "showTitle": false,
     "tableResultSettingsMap": {},
     "title": ""
    }
   },
   "outputs": [],
   "source": [
    "def evaluate_score(example, pred, trace=None):\n",
    "  actual_values = np.array(example.answer.score)\n",
    "  pred = np.array(pred)\n",
    "  return np.sqrt(np.mean((actual_values - pred)**2))"
   ]
  },
  {
   "cell_type": "code",
   "execution_count": 0,
   "metadata": {
    "application/vnd.databricks.v1+cell": {
     "cellMetadata": {
      "byteLimit": 2048000,
      "rowLimit": 10000
     },
     "inputWidgets": {},
     "nuid": "fc0997d7-732f-4453-8ee5-95f3214428eb",
     "showTitle": false,
     "tableResultSettingsMap": {},
     "title": ""
    }
   },
   "outputs": [],
   "source": [
    "pred = results['answers_dict']['score'].tolist()\n",
    "pred"
   ]
  },
  {
   "cell_type": "code",
   "execution_count": 0,
   "metadata": {
    "application/vnd.databricks.v1+cell": {
     "cellMetadata": {
      "byteLimit": 2048000,
      "rowLimit": 10000
     },
     "inputWidgets": {},
     "nuid": "74cc65f0-0e23-4eef-8e54-8c14759fc150",
     "showTitle": false,
     "tableResultSettingsMap": {},
     "title": ""
    }
   },
   "outputs": [],
   "source": [
    "print(evaluate_score(qa_pair, pred))"
   ]
  },
  {
   "cell_type": "code",
   "execution_count": 0,
   "metadata": {
    "application/vnd.databricks.v1+cell": {
     "cellMetadata": {
      "byteLimit": 2048000,
      "rowLimit": 10000
     },
     "inputWidgets": {},
     "nuid": "33c27f61-7a91-4adb-b4b0-bda3faee41fb",
     "showTitle": false,
     "tableResultSettingsMap": {},
     "title": ""
    }
   },
   "outputs": [],
   "source": [
    "results['answers_dict'].display()"
   ]
  },
  {
   "cell_type": "code",
   "execution_count": 0,
   "metadata": {
    "application/vnd.databricks.v1+cell": {
     "cellMetadata": {
      "byteLimit": 2048000,
      "rowLimit": 10000
     },
     "inputWidgets": {},
     "nuid": "fe37687a-40d9-43e4-9f17-f7ee05b66049",
     "showTitle": false,
     "tableResultSettingsMap": {},
     "title": ""
    }
   },
   "outputs": [],
   "source": [
    "spark.sql(\"select * from users.abhay_jalisatgi.gen_ai_eval limit 5 \").display()"
   ]
  },
  {
   "cell_type": "code",
   "execution_count": 0,
   "metadata": {
    "application/vnd.databricks.v1+cell": {
     "cellMetadata": {
      "byteLimit": 2048000,
      "implicitDf": true,
      "rowLimit": 10000
     },
     "inputWidgets": {},
     "nuid": "a891aae1-c892-4726-82e7-0fdcc431b110",
     "showTitle": false,
     "tableResultSettingsMap": {},
     "title": ""
    }
   },
   "outputs": [],
   "source": [
    "%sql\n",
    "create table users.abhay_jalisatgi.training_set as \n",
    "select distinct score\n",
    "      , code_snippet\n",
    "      , candidate\n",
    "      ,secton as section\n",
    "\n",
    "from users.abhay_jalisatgi.gen_ai_eval"
   ]
  },
  {
   "cell_type": "code",
   "execution_count": 0,
   "metadata": {
    "application/vnd.databricks.v1+cell": {
     "cellMetadata": {
      "byteLimit": 2048000,
      "rowLimit": 10000
     },
     "inputWidgets": {},
     "nuid": "58461e81-f6b7-4ae0-9cee-5d7e08a473c9",
     "showTitle": false,
     "tableResultSettingsMap": {},
     "title": ""
    }
   },
   "outputs": [],
   "source": [
    "df = spark.read.table(\"users.abhay_jalisatgi.training_set\")\n",
    "df = df.dropDuplicates([\"candidate\", \"section\"])\n",
    "df.write.mode(\"overwrite\").saveAsTable(\"users.abhay_jalisatgi.training_set\")"
   ]
  },
  {
   "cell_type": "code",
   "execution_count": 0,
   "metadata": {
    "application/vnd.databricks.v1+cell": {
     "cellMetadata": {
      "byteLimit": 2048000,
      "rowLimit": 10000
     },
     "inputWidgets": {},
     "nuid": "27e3bbf5-c1ad-4fb8-8e45-9f3866359776",
     "showTitle": false,
     "tableResultSettingsMap": {},
     "title": ""
    }
   },
   "outputs": [],
   "source": [
    "import dspy\n",
    "from dspy.signatures import Signature\n",
    "from dspy.signatures.field import InputField, OutputField\n",
    "\n",
    "# Define a Signature class with a docstring\n",
    "class SentimentAnalysis(Signature):\n",
    "  \"\"\"Analyze sentiment in text\"\"\"\n",
    "  input_text = InputField(desc=\"Text to be analyzed\")\n",
    "  sentiment = OutputField(desc=\"Overall sentiment (positive, negative, neutral)\")\n",
    "  key_insights = OutputField(desc=\"Specific elements contributing to the sentiment\")\n",
    "\n",
    "# Function to extract docstring from a Signature class\n",
    "def get_signature_docstring(signature_class):\n",
    "    docstring = signature_class.__doc__\n",
    "    return docstring.strip() if docstring else \"No docstring available\"\n",
    "\n",
    "# Extract and print the docstring\n",
    "docstring = get_signature_docstring(SentimentAnalysis)\n",
    "print(\"Docstring of SentimentAnalysis:\")\n",
    "print(docstring)\n",
    "\n",
    "# Example of handling a Signature without a docstring\n",
    "class TopicAnalysis(Signature):\n",
    "    input_text = InputField(desc=\"Text to be analyzed\")\n",
    "    topics = OutputField(desc=\"Main topics identified\")\n",
    "\n",
    "docstring = get_signature_docstring(TopicAnalysis)\n",
    "print(\"\\nDocstring of TopicAnalysis:\")\n",
    "print(docstring)"
   ]
  },
  {
   "cell_type": "code",
   "execution_count": 0,
   "metadata": {
    "application/vnd.databricks.v1+cell": {
     "cellMetadata": {},
     "inputWidgets": {},
     "nuid": "8c40fdd2-0166-4488-b66b-fd9dd702dfd1",
     "showTitle": false,
     "tableResultSettingsMap": {},
     "title": ""
    }
   },
   "outputs": [],
   "source": []
  }
 ],
 "metadata": {
  "application/vnd.databricks.v1+notebook": {
   "computePreferences": null,
   "dashboards": [],
   "environmentMetadata": {
    "base_environment": "",
    "environment_version": "2"
   },
   "language": "python",
   "notebookMetadata": {
    "mostRecentlyExecutedCommandWithImplicitDF": {
     "commandId": 1315887243155611,
     "dataframes": [
      "_sqldf"
     ]
    },
    "pythonIndentUnit": 2
   },
   "notebookName": "test-notebook",
   "widgets": {}
  },
  "language_info": {
   "name": "python"
  }
 },
 "nbformat": 4,
 "nbformat_minor": 0
}
