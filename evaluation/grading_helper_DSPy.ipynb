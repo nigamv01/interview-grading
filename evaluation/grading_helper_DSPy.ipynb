{
 "cells": [
  {
   "cell_type": "code",
   "execution_count": 0,
   "metadata": {
    "application/vnd.databricks.v1+cell": {
     "cellMetadata": {},
     "inputWidgets": {},
     "nuid": "e893758d-f79f-4e20-b4eb-caec8bc91d64",
     "showTitle": false,
     "tableResultSettingsMap": {},
     "title": ""
    }
   },
   "outputs": [],
   "source": [
    "import base64\n",
    "\n",
    "import databricks.sdk\n",
    "from databricks.sdk.service.workspace import ImportFormat\n",
    "import nbformat\n",
    "import numpy as np \n",
    "\n",
    "import pandas as pd"
   ]
  },
  {
   "cell_type": "code",
   "execution_count": 0,
   "metadata": {
    "application/vnd.databricks.v1+cell": {
     "cellMetadata": {},
     "inputWidgets": {},
     "nuid": "99a91219-bf5a-4303-9721-966f46f0ae6d",
     "showTitle": false,
     "tableResultSettingsMap": {},
     "title": ""
    }
   },
   "outputs": [],
   "source": [
    "import dspy\n",
    "lm = dspy.LM('databricks/databricks-meta-llama-3-3-70b-instruct')\n",
    "dspy.settings.configure(lm=lm)\n",
    "\n",
    "w = databricks.sdk.WorkspaceClient()"
   ]
  },
  {
   "cell_type": "code",
   "execution_count": 0,
   "metadata": {
    "application/vnd.databricks.v1+cell": {
     "cellMetadata": {},
     "inputWidgets": {},
     "nuid": "4bfd1d15-7f4b-4744-a947-1d4a3d5aa7a0",
     "showTitle": false,
     "tableResultSettingsMap": {},
     "title": ""
    }
   },
   "outputs": [],
   "source": [
    "def get_code_from_notebooks(workspace_client, notebook_path):\n",
    "   notebook = workspace_client.workspace.export(notebook_path, \n",
    "                                    format=ImportFormat.JUPYTER)\n",
    "   ipynb = base64.decodebytes(notebook.content.encode('ascii')).decode(\"utf-8\")\n",
    "   notebook = nbformat.reads(ipynb, as_version=4)\n",
    "   code_dict = {}\n",
    "   x=0\n",
    "   for cell in notebook.cells:\n",
    "      if cell.cell_type == 'code' or cell.cell_type == 'markdown':\n",
    "         code_dict[x] = cell.source\n",
    "         x+=1\n",
    "   context = ''.join(code_dict.values())\n",
    "   return context"
   ]
  },
  {
   "cell_type": "code",
   "execution_count": 0,
   "metadata": {
    "application/vnd.databricks.v1+cell": {
     "cellMetadata": {},
     "inputWidgets": {},
     "nuid": "99fec88b-7dc8-438f-b090-ab1fd6b8e22e",
     "showTitle": false,
     "tableResultSettingsMap": {},
     "title": ""
    }
   },
   "outputs": [],
   "source": [
    "def evaluate_responses(context, module_dict):\n",
    "  answer_list = []\n",
    "  for k,module in module_dict.items():\n",
    "    response = module(text=context)\n",
    "    response_dict = {\n",
    "      'score': response.score,\n",
    "      'reasoning': response.reasoning,\n",
    "      'code_snippet': response.code_snippet\n",
    "    }\n",
    "    # print(response_dict)\n",
    "    answer_list.append(response_dict)\n",
    "  answer_list_df = pd.DataFrame(answer_list)\n",
    "\n",
    "  return answer_list_df"
   ]
  },
  {
   "cell_type": "code",
   "execution_count": 0,
   "metadata": {
    "application/vnd.databricks.v1+cell": {
     "cellMetadata": {},
     "inputWidgets": {},
     "nuid": "b2e4185e-f266-44ec-9a3d-2f0e312cf2d6",
     "showTitle": false,
     "tableResultSettingsMap": {},
     "title": ""
    }
   },
   "outputs": [],
   "source": [
    "def get_error_and_answer_dict(context_path, module_dict, human_answers_list, table_name, section):\n",
    "  \n",
    "  context = get_code_from_notebooks(w, context_path)\n",
    "  answers = evaluate_responses(context, module_dict)\n",
    "  answers['candidate'] = candidate[0]\n",
    "  answers['secton'] = section\n",
    "  answers['score'] = answers['score'].astype('float64')\n",
    "  spark.createDataFrame(answers).write.mode(\"append\").saveAsTable(table_name)\n",
    "\n",
    "  model_asnwers_list = answers['score'].tolist()\n",
    "  diff = [human_answers_list[i] - model_asnwers_list[i] for i in range(len(human_answers_list))]\n",
    "  \n",
    "  abs_error = np.abs(diff).sum()\n",
    "  inaccurate_predictions = len([x for x in diff if x != 0])\n",
    "\n",
    "  error_dict = {'abs_error': abs_error, 'inaccurate_predictions': inaccurate_predictions, 'context': diff}\n",
    "\n",
    "  return {\n",
    "    'error_dict': error_dict,\n",
    "    'answers_dict': answers\n",
    "  }"
   ]
  },
  {
   "cell_type": "code",
   "execution_count": 0,
   "metadata": {
    "application/vnd.databricks.v1+cell": {
     "cellMetadata": {},
     "inputWidgets": {},
     "nuid": "88bc7299-121d-46eb-a8c9-b99f4acca5db",
     "showTitle": false,
     "tableResultSettingsMap": {},
     "title": ""
    }
   },
   "outputs": [],
   "source": [
    "def evaluate_model(diff):\n",
    "  unmatched_elements = [i for i in diff if i != 0]\n",
    "  diff_in_score = sum(unmatched_elements)\n",
    "  return diff_in_score"
   ]
  }
 ],
 "metadata": {
  "application/vnd.databricks.v1+notebook": {
   "computePreferences": null,
   "dashboards": [],
   "environmentMetadata": {
    "base_environment": "",
    "environment_version": "2"
   },
   "language": "python",
   "notebookMetadata": {
    "pythonIndentUnit": 2
   },
   "notebookName": "grading_helper_DSPy",
   "widgets": {}
  },
  "language_info": {
   "name": "python"
  }
 },
 "nbformat": 4,
 "nbformat_minor": 0
}
