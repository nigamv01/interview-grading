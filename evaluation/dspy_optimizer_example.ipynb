{
 "cells": [
  {
   "cell_type": "code",
   "execution_count": 0,
   "metadata": {
    "application/vnd.databricks.v1+cell": {
     "cellMetadata": {
      "byteLimit": 2048000,
      "rowLimit": 10000
     },
     "inputWidgets": {},
     "nuid": "96f44cf5-7821-40bd-b2ac-7d9caa6bc650",
     "showTitle": false,
     "tableResultSettingsMap": {},
     "title": ""
    }
   },
   "outputs": [],
   "source": [
    "%pip install -U nbformat dspy mlflow --quiet\n",
    "dbutils.library.restartPython()"
   ]
  },
  {
   "cell_type": "code",
   "execution_count": 0,
   "metadata": {
    "application/vnd.databricks.v1+cell": {
     "cellMetadata": {
      "byteLimit": 2048000,
      "rowLimit": 10000
     },
     "inputWidgets": {},
     "nuid": "7ed0207e-ee00-4fbb-8b26-afd7f3bb262b",
     "showTitle": false,
     "tableResultSettingsMap": {},
     "title": ""
    }
   },
   "outputs": [],
   "source": [
    "import base64\n",
    "\n",
    "import databricks.sdk\n",
    "from databricks.sdk.service.workspace import ImportFormat\n",
    "import nbformat\n",
    "import numpy as np \n",
    "\n",
    "import pandas as pd\n",
    "import dspy"
   ]
  },
  {
   "cell_type": "code",
   "execution_count": 0,
   "metadata": {
    "application/vnd.databricks.v1+cell": {
     "cellMetadata": {
      "byteLimit": 2048000,
      "rowLimit": 10000
     },
     "inputWidgets": {},
     "nuid": "f4c61201-d990-4a08-b4b7-51ba25dd34af",
     "showTitle": false,
     "tableResultSettingsMap": {},
     "title": ""
    }
   },
   "outputs": [],
   "source": [
    "import mlflow\n",
    "import dspy \n",
    "\n",
    "mlflow.dspy.autolog()"
   ]
  },
  {
   "cell_type": "code",
   "execution_count": 0,
   "metadata": {
    "application/vnd.databricks.v1+cell": {
     "cellMetadata": {
      "byteLimit": 2048000,
      "rowLimit": 10000
     },
     "inputWidgets": {},
     "nuid": "d451570a-8043-4b3b-9e8e-6ac0e6ba3fad",
     "showTitle": false,
     "tableResultSettingsMap": {},
     "title": ""
    }
   },
   "outputs": [],
   "source": [
    "lm = dspy.LM('databricks/databricks-dbrx-instruct')\n",
    "dspy.settings.configure(lm=lm)"
   ]
  },
  {
   "cell_type": "code",
   "execution_count": 0,
   "metadata": {
    "application/vnd.databricks.v1+cell": {
     "cellMetadata": {
      "byteLimit": 2048000,
      "rowLimit": 10000
     },
     "inputWidgets": {},
     "nuid": "fdc038e2-4b6e-400a-b8ca-b35533ab1212",
     "showTitle": false,
     "tableResultSettingsMap": {},
     "title": ""
    }
   },
   "outputs": [],
   "source": [
    "class SQLPrompt1(dspy.Signature):\n",
    "    \"\"\" Check if the provided context has any code snippet which creates a table/view called workloads and get shcema of workloads \"\"\"\n",
    "\n",
    "    text: str = dspy.InputField()\n",
    "    \n",
    "    score: str = dspy.OutputField(desc=\"15 if any code snippet below creates a table/view and displays its schema, 7.5 if it creates a table/view but does not display its schema,  0 if no code snippet creates a table/view\")\n",
    "    \n",
    "    code_snippet: str = dspy.OutputField(desc=\"provide the code snippet which creates a table/view and displays its schema encapsulated as a string\") \n",
    "\n",
    "classify = dspy.ChainOfThought(SQLPrompt1)\n"
   ]
  },
  {
   "cell_type": "code",
   "execution_count": 0,
   "metadata": {
    "application/vnd.databricks.v1+cell": {
     "cellMetadata": {
      "byteLimit": 2048000,
      "rowLimit": 10000
     },
     "inputWidgets": {},
     "nuid": "8b7797af-3211-46e7-9100-f0fea225e3ee",
     "showTitle": false,
     "tableResultSettingsMap": {},
     "title": ""
    }
   },
   "outputs": [],
   "source": [
    "train_df = spark.read.table(\"users.abhay_jalisatgi.training_set\")\n",
    "train_df = train_df.filter(\" section = 'SQL' and trim(question) = 'Check if the provided context has any code snippet which creates a table/view called workloads and get shcema of workloads' \")\n",
    "train_df.display()"
   ]
  },
  {
   "cell_type": "code",
   "execution_count": 0,
   "metadata": {
    "application/vnd.databricks.v1+cell": {
     "cellMetadata": {
      "byteLimit": 2048000,
      "rowLimit": 10000
     },
     "inputWidgets": {},
     "nuid": "4de39a0d-7fbf-4524-b2f6-6c1690ed9522",
     "showTitle": false,
     "tableResultSettingsMap": {},
     "title": ""
    }
   },
   "outputs": [],
   "source": [
    "training_examples = train_df.select(\"code_snippet\", \"score\").collect()\n",
    "trainset = [dspy.Example(text=x.code_snippet, score=x.score) for x in training_examples]\n",
    "trainset[0].score"
   ]
  },
  {
   "cell_type": "code",
   "execution_count": 0,
   "metadata": {
    "application/vnd.databricks.v1+cell": {
     "cellMetadata": {
      "byteLimit": 2048000,
      "rowLimit": 10000
     },
     "inputWidgets": {},
     "nuid": "991bd45e-b27e-4b92-8876-2b3891b5458b",
     "showTitle": false,
     "tableResultSettingsMap": {},
     "title": ""
    }
   },
   "outputs": [],
   "source": [
    "def validate_score(example, prediction, trace=None):\n",
    "    return prediction.score == example.score"
   ]
  },
  {
   "cell_type": "code",
   "execution_count": 0,
   "metadata": {
    "application/vnd.databricks.v1+cell": {
     "cellMetadata": {
      "byteLimit": 2048000,
      "rowLimit": 10000
     },
     "inputWidgets": {},
     "nuid": "6de1eebc-f3d3-4e8d-a8c5-42ef335de3cc",
     "showTitle": false,
     "tableResultSettingsMap": {},
     "title": ""
    }
   },
   "outputs": [],
   "source": [
    "from dspy.teleprompt import * \n",
    "\n",
    "# Optimize\n",
    "tp = dspy.MIPROv2(metric=validate_score\n",
    "                  # , auto=\"light\"\n",
    "                  , num_candidates = 1\n",
    "                  , num_threads=6\n",
    "                  # , max_errors=0\n",
    "                  # , verbose=True\n",
    "                  )\n",
    "optimized_classify = tp.compile(\n",
    "                                classify\n",
    "                                , trainset=trainset\n",
    "                                , num_trials = 1\n",
    "                                , minibatch_size = 3\n",
    "                                , max_labeled_demos=0\n",
    "                                , max_bootstrapped_demos=0\n",
    "                                )"
   ]
  },
  {
   "cell_type": "code",
   "execution_count": 0,
   "metadata": {
    "application/vnd.databricks.v1+cell": {
     "cellMetadata": {},
     "inputWidgets": {},
     "nuid": "3dc17339-e314-4582-a9d2-258e79350545",
     "showTitle": false,
     "tableResultSettingsMap": {},
     "title": ""
    }
   },
   "outputs": [],
   "source": [
    "# Use lm.inspect_history(n=1) to get system_prompts "
   ]
  },
  {
   "cell_type": "code",
   "execution_count": 0,
   "metadata": {
    "application/vnd.databricks.v1+cell": {
     "cellMetadata": {
      "byteLimit": 2048000,
      "rowLimit": 10000
     },
     "inputWidgets": {},
     "nuid": "f0178994-1e6e-4574-8e40-e1a314d6d7f9",
     "showTitle": false,
     "tableResultSettingsMap": {},
     "title": ""
    }
   },
   "outputs": [],
   "source": [
    "from typing import Literal\n",
    "\n",
    "class Score(dspy.Signature):\n",
    "    \"\"\"\n",
    "        Assign score for a given context based on following instructions \n",
    "\n",
    "        1. Check if the provided context has any code snippet which creates a table/view called workloads and get shcema of workloads. \n",
    "           Assign a score of 15 if any code snippet below creates a table/view and displays its schema, 7.5 if it creates a table/view but does not display its schema,  0 if no code snippet creates a table/view\n",
    "\n",
    "        2. \n",
    "    \n",
    "    \"\"\"\n",
    "\n",
    "    event: str = dspy.InputField()\n",
    "    category: Literal[\n",
    "        \"Wars and Conflicts\",\n",
    "        \"Politics and Governance\",\n",
    "        \"Science and Innovation\",\n",
    "        \"Cultural and Artistic Movements\",\n",
    "        \"Exploration and Discovery\",\n",
    "        \"Economic Events\",\n",
    "        \"Social Movements\",\n",
    "        \"Man-Made Disasters and Accidents\",\n",
    "        \"Natural Disasters and Climate\",\n",
    "        \"Sports and Entertainment\",\n",
    "        \"Famous Personalities and Achievements\"\n",
    "    ] = dspy.OutputField()\n",
    "    confidence: float = dspy.OutputField()\n",
    "\n",
    "classify = dspy.Predict(Categorize)\n",
    "\n",
    "# Here is how we call this module\n",
    "classification = classify(event=\"Second Boer War: In the Battle of Magersfontein the Boers commanded by general Piet Cronjé inflict a defeat on the forces of the British Empire commanded by Lord Methuen trying to relieve the Siege of Kimberley.\")"
   ]
  },
  {
   "cell_type": "code",
   "execution_count": 0,
   "metadata": {
    "application/vnd.databricks.v1+cell": {
     "cellMetadata": {
      "byteLimit": 2048000,
      "rowLimit": 10000
     },
     "inputWidgets": {},
     "nuid": "feef6424-9b22-486b-af3c-51ca2f15629d",
     "showTitle": false,
     "tableResultSettingsMap": {},
     "title": ""
    }
   },
   "outputs": [],
   "source": [
    "classification"
   ]
  },
  {
   "cell_type": "code",
   "execution_count": 0,
   "metadata": {
    "application/vnd.databricks.v1+cell": {
     "cellMetadata": {},
     "inputWidgets": {},
     "nuid": "3541bc9d-de73-4943-879c-409c69a8eb14",
     "showTitle": false,
     "tableResultSettingsMap": {},
     "title": ""
    }
   },
   "outputs": [],
   "source": [
    "### Sample code for model switchin in context #### \n",
    "\n",
    "# with open(\"0101_events.json\", 'r') as file:\n",
    "#     data = json.load(file)\n",
    "#     events = pd.DataFrame(data['events'])\n",
    "    \n",
    "#     # Using our small model\n",
    "#     with dspy.context(lm=dspy.LM('ollama_chat/llama3.2:1b', api_base='http://localhost:11434')):\n",
    "#         events['category_32_1b'], events['confidence_32_1b'] = zip(*events['description'].apply(classify_event))\n",
    "\n",
    "#     # Using our large model\n",
    "#     with dspy.context(lm=dspy.LM('ollama_chat/llama3.3', api_base='http://localhost:11434')):\n",
    "#         events['category_33'], events['confidence_33'] = zip(*events['description'].apply(classify_event))\n",
    "\n",
    "#     events.to_csv(\"model_compare.csv\", index=False)"
   ]
  },
  {
   "cell_type": "code",
   "execution_count": 0,
   "metadata": {
    "application/vnd.databricks.v1+cell": {
     "cellMetadata": {
      "byteLimit": 2048000,
      "rowLimit": 10000
     },
     "inputWidgets": {},
     "nuid": "bb8ee381-6f16-4a8d-a7e0-c87696e2d5d7",
     "showTitle": false,
     "tableResultSettingsMap": {},
     "title": ""
    }
   },
   "outputs": [],
   "source": [
    "def validate_category(example, prediction, trace=None):\n",
    "    return prediction.category == example.category"
   ]
  },
  {
   "cell_type": "code",
   "execution_count": 0,
   "metadata": {
    "application/vnd.databricks.v1+cell": {
     "cellMetadata": {},
     "inputWidgets": {},
     "nuid": "9d3d5383-a520-4f9a-9bc8-23d1c8f380d1",
     "showTitle": false,
     "tableResultSettingsMap": {},
     "title": ""
    }
   },
   "outputs": [],
   "source": [
    "trainset = [] # Trainset is to be provided as a list of examples which sets up event and category \n",
    "evaluator = Evaluate(devset=trainset, num_threads=1, display_progress=True, display_table=5)\n",
    "evaluator(classify, metric=validate_category)"
   ]
  }
 ],
 "metadata": {
  "application/vnd.databricks.v1+notebook": {
   "computePreferences": null,
   "dashboards": [],
   "environmentMetadata": {
    "base_environment": "",
    "environment_version": "2"
   },
   "language": "python",
   "notebookMetadata": {
    "pythonIndentUnit": 2
   },
   "notebookName": "dspy_optimizer_example",
   "widgets": {}
  },
  "language_info": {
   "name": "python"
  }
 },
 "nbformat": 4,
 "nbformat_minor": 0
}
