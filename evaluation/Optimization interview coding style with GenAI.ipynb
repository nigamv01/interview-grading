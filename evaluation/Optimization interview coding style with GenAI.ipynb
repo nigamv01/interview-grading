{
 "cells": [
  {
   "cell_type": "code",
   "execution_count": 0,
   "metadata": {
    "application/vnd.databricks.v1+cell": {
     "cellMetadata": {
      "byteLimit": 2048000,
      "rowLimit": 10000
     },
     "inputWidgets": {},
     "nuid": "8a82f190-dbec-428c-b8a8-991f921373dd",
     "showTitle": false,
     "tableResultSettingsMap": {},
     "title": ""
    }
   },
   "outputs": [],
   "source": [
    "%pip install nbformat databricks-sdk[openai]==0.38.0\n",
    "dbutils.library.restartPython()"
   ]
  },
  {
   "cell_type": "code",
   "execution_count": 0,
   "metadata": {
    "application/vnd.databricks.v1+cell": {
     "cellMetadata": {
      "byteLimit": 2048000,
      "rowLimit": 10000
     },
     "inputWidgets": {},
     "nuid": "6dd483ad-d5f4-4d84-8767-7f30b563dc00",
     "showTitle": false,
     "tableResultSettingsMap": {},
     "title": ""
    }
   },
   "outputs": [],
   "source": [
    "%run ../prompts/prompts_notebook_sql"
   ]
  },
  {
   "cell_type": "code",
   "execution_count": 0,
   "metadata": {
    "application/vnd.databricks.v1+cell": {
     "cellMetadata": {
      "byteLimit": 2048000,
      "rowLimit": 10000
     },
     "inputWidgets": {},
     "nuid": "f912084d-5ea3-4b25-9e54-ba527a5aff1b",
     "showTitle": false,
     "tableResultSettingsMap": {},
     "title": ""
    }
   },
   "outputs": [],
   "source": [
    "import base64\n",
    "\n",
    "import databricks.sdk\n",
    "from databricks.sdk.service.workspace import ImportFormat\n",
    "import nbformat\n",
    "import numpy as np "
   ]
  },
  {
   "cell_type": "code",
   "execution_count": 0,
   "metadata": {
    "application/vnd.databricks.v1+cell": {
     "cellMetadata": {
      "byteLimit": 2048000,
      "rowLimit": 10000
     },
     "inputWidgets": {},
     "nuid": "ee040399-add3-44b2-ae01-f0f9f5bae0ce",
     "showTitle": false,
     "tableResultSettingsMap": {},
     "title": ""
    }
   },
   "outputs": [],
   "source": [
    "candidate_dict = [\n",
    "  (\"X\",\"/Workspace/Users/vibhor.nigam@databricks.com/interview-scripts/interview-grading/example-notebooks-coding-style/03-Coding-Style-X\"),\n",
    "]\n",
    "human_graded_dict = {\n",
    "  \"X\": [1,0,1,1,1,1,1,0]\n",
    "}\n",
    "\n",
    "w = databricks.sdk.WorkspaceClient()"
   ]
  },
  {
   "cell_type": "code",
   "execution_count": 0,
   "metadata": {
    "application/vnd.databricks.v1+cell": {
     "cellMetadata": {
      "byteLimit": 2048000,
      "rowLimit": 10000
     },
     "inputWidgets": {},
     "nuid": "9e5a51ac-c3e4-4103-873a-2c6a741d8f7b",
     "showTitle": false,
     "tableResultSettingsMap": {},
     "title": ""
    }
   },
   "outputs": [],
   "source": [
    "def get_code_from_notebooks(workspace_client, notebook_path):\n",
    "   notebook = workspace_client.workspace.export(notebook_path, \n",
    "                                    format=ImportFormat.JUPYTER)\n",
    "   ipynb = base64.decodebytes(notebook.content.encode('ascii')).decode(\"utf-8\")\n",
    "   notebook = nbformat.reads(ipynb, as_version=4)\n",
    "   code_dict = {}\n",
    "   x=0\n",
    "   for cell in notebook.cells:\n",
    "      if cell.cell_type == 'code':\n",
    "         code_dict[x] = cell.source\n",
    "         x+=1\n",
    "   context = ''.join(code_dict.values())\n",
    "   return context\n",
    "# ipynb"
   ]
  },
  {
   "cell_type": "code",
   "execution_count": 0,
   "metadata": {
    "application/vnd.databricks.v1+cell": {
     "cellMetadata": {
      "byteLimit": 2048000,
      "rowLimit": 10000
     },
     "inputWidgets": {},
     "nuid": "ae3fbc04-55d3-4157-9d58-3a4dc912f005",
     "showTitle": false,
     "tableResultSettingsMap": {},
     "title": ""
    }
   },
   "outputs": [],
   "source": [
    "import json\n",
    "def clean_up_response(content):\n",
    "  char_list = [\"`\",\"```json\", \"\\n\", \"json\"]\n",
    "  for i in char_list:\n",
    "    content=content.replace(i, \"\")\n",
    "  content_json = json.loads(content)\n",
    "  print(content_json)\n",
    "  return content_json"
   ]
  },
  {
   "cell_type": "code",
   "execution_count": 0,
   "metadata": {
    "application/vnd.databricks.v1+cell": {
     "cellMetadata": {
      "byteLimit": 2048000,
      "rowLimit": 10000
     },
     "inputWidgets": {},
     "nuid": "84a541d6-0e4f-44b4-92be-6115e3bd80d0",
     "showTitle": false,
     "tableResultSettingsMap": {},
     "title": ""
    }
   },
   "outputs": [],
   "source": [
    "def evaluate_model(diff):\n",
    "  unmatched_elements = [i for i in diff if i != 0]\n",
    "  diff_in_score = sum(unmatched_elements)\n",
    "  return diff_in_score"
   ]
  },
  {
   "cell_type": "code",
   "execution_count": 0,
   "metadata": {
    "application/vnd.databricks.v1+cell": {
     "cellMetadata": {
      "byteLimit": 2048000,
      "rowLimit": 10000
     },
     "inputWidgets": {},
     "nuid": "99f204d4-8771-4194-92bd-866cb04a8b91",
     "showTitle": false,
     "tableResultSettingsMap": {},
     "title": ""
    }
   },
   "outputs": [],
   "source": [
    "from databricks.sdk import WorkspaceClient\n",
    "from databricks.sdk.service.serving import ChatMessage, ChatMessageRole\n",
    "import pandas as pd\n",
    "\n",
    "def evaluate_responses(w, context, prompt_dict):\n",
    "    prompt_list = [f\"\"\"{prompt_dict[f'prompt_instructions_{i+1}']} ```{context}``` \"\"\" for i in range(0,len(prompt_dict))]\n",
    "    answer_list = []\n",
    "    \n",
    "    for prompt in prompt_list:\n",
    "        response = w.serving_endpoints.query(\n",
    "            name=\"databricks-meta-llama-3-70b-instruct\",\n",
    "            messages=[\n",
    "                ChatMessage(\n",
    "                    role=ChatMessageRole.SYSTEM, content=system_prompt\n",
    "                ),\n",
    "                ChatMessage(\n",
    "                    role=ChatMessageRole.USER, content=prompt\n",
    "                ),\n",
    "            ],\n",
    "            max_tokens=128,\n",
    "            \n",
    "        )\n",
    "        curr_response = response.choices[0].message.content\n",
    "        # print(curr_response)\n",
    "        curr_response_json = clean_up_response(curr_response)\n",
    "        answer_list.append(curr_response_json)\n",
    "    answer_list_df = pd.DataFrame(answer_list)\n",
    "\n",
    "    return answer_list_df"
   ]
  },
  {
   "cell_type": "code",
   "execution_count": 0,
   "metadata": {
    "application/vnd.databricks.v1+cell": {
     "cellMetadata": {
      "byteLimit": 2048000,
      "rowLimit": 10000
     },
     "inputWidgets": {},
     "nuid": "5b3bc555-dc62-4a34-8743-9d54e56939e7",
     "showTitle": false,
     "tableResultSettingsMap": {},
     "title": ""
    }
   },
   "outputs": [],
   "source": [
    "# spark.sql(f\" drop table if exists users.abhay_jalisatgi.gen_ai_eval \")"
   ]
  },
  {
   "cell_type": "code",
   "execution_count": 0,
   "metadata": {
    "application/vnd.databricks.v1+cell": {
     "cellMetadata": {
      "byteLimit": 2048000,
      "rowLimit": 10000
     },
     "inputWidgets": {},
     "nuid": "b659f53a-5b6b-433c-b45d-419037c6f7a6",
     "showTitle": false,
     "tableResultSettingsMap": {},
     "title": ""
    }
   },
   "outputs": [],
   "source": [
    "error_dict = {}\n",
    "answers_dict = {}\n",
    "for candidate in candidate_dict:\n",
    "  context = get_code_from_notebooks(w, candidate[1])\n",
    "  answers = evaluate_responses(w, context, coding_prompt_dict)\n",
    "  answers['candidate'] = candidate[0]\n",
    "  answers['score'] = answers['score'].astype('float64')\n",
    "  answers_dict[candidate[0]] = answers\n",
    "\n",
    "  #  -- uncomment below when writing actually to the table \n",
    "  # spark.createDataFrame(answers).write.mode(\"append\").saveAsTable(\"users.abhay_jalisatgi.gen_ai_eval\")\n",
    "\n",
    "  # human_answers_list = human_graded_dict[candidate[0]]\n",
    "  # model_asnwers_list = answers['score'].tolist()\n",
    "  # diff = [human_answers_list[i] - model_asnwers_list[i] for i in range(len(human_answers_list))]\n",
    "  \n",
    "  # abs_error = np.abs(diff).sum()\n",
    "  # inaccurate_predictions = len([x for x in diff if x != 0])\n",
    "\n",
    "  # error_dict[candidate[0]] = {\n",
    "  #   'abs_error': abs_error, \n",
    "  #   'inaccurate_predictions': inaccurate_predictions, \n",
    "  #   'human_answers': human_answers_list,\n",
    "  #   'model_answers': model_asnwers_list,\n",
    "  #   'diff': diff\n",
    "  #   }"
   ]
  },
  {
   "cell_type": "code",
   "execution_count": 0,
   "metadata": {
    "application/vnd.databricks.v1+cell": {
     "cellMetadata": {
      "byteLimit": 2048000,
      "rowLimit": 10000
     },
     "inputWidgets": {},
     "nuid": "d960767a-63a4-4af1-a45a-931837616103",
     "showTitle": false,
     "tableResultSettingsMap": {},
     "title": ""
    }
   },
   "outputs": [],
   "source": [
    "answers_dict['X'].display()"
   ]
  },
  {
   "cell_type": "code",
   "execution_count": 0,
   "metadata": {
    "application/vnd.databricks.v1+cell": {
     "cellMetadata": {
      "byteLimit": 2048000,
      "rowLimit": 10000
     },
     "inputWidgets": {},
     "nuid": "4a573e5e-4dc8-4d26-81d6-c7946913af3a",
     "showTitle": false,
     "tableResultSettingsMap": {},
     "title": ""
    }
   },
   "outputs": [],
   "source": [
    "error_dict"
   ]
  },
  {
   "cell_type": "code",
   "execution_count": 0,
   "metadata": {
    "application/vnd.databricks.v1+cell": {
     "cellMetadata": {
      "byteLimit": 2048000,
      "rowLimit": 10000
     },
     "inputWidgets": {},
     "nuid": "687e9941-29d7-4503-bb3f-e84b104a691a",
     "showTitle": false,
     "tableResultSettingsMap": {},
     "title": ""
    },
    "jupyter": {
     "source_hidden": true
    }
   },
   "outputs": [],
   "source": [
    "# prompt_instructions_6 = sql_prompt_dict['prompt_instructions_6']\n",
    "# prompt6 = f\"\"\"{prompt_instructions_6} ```{context_dict[candidate]}``` \"\"\""
   ]
  },
  {
   "cell_type": "code",
   "execution_count": 0,
   "metadata": {
    "application/vnd.databricks.v1+cell": {
     "cellMetadata": {
      "byteLimit": 2048000,
      "rowLimit": 10000
     },
     "inputWidgets": {},
     "nuid": "4d9bb5b5-7276-4a90-98ac-2574ad56ab2a",
     "showTitle": false,
     "tableResultSettingsMap": {},
     "title": ""
    },
    "jupyter": {
     "source_hidden": true
    }
   },
   "outputs": [],
   "source": [
    "# import json\n",
    "# from databricks.sdk import WorkspaceClient\n",
    "\n",
    "# w = WorkspaceClient()\n",
    "# openai_client = w.serving_endpoints.get_open_ai_client()\n",
    "\n",
    "# response_format = {\n",
    "#   \"type\": \"json_schema\",\n",
    "#   \"json_schema\":{\n",
    "#     \"name\": \"results\",\n",
    "#     \"schema\": {\n",
    "#       \"type\": \"object\",\n",
    "#       \"properties\": {\n",
    "#         \"score\": { \"type\": \"integer\" },\n",
    "#         \"explanation\": { \"type\": \"string\" }\n",
    "#       }\n",
    "#     }\n",
    "#   }\n",
    "# }\n",
    "\n",
    "# response = openai_client.chat.completions.create(\n",
    "#     model=\"databricks-dbrx-instruct\",\n",
    "#     messages=[\n",
    "#       {\n",
    "#         \"role\": \"system\",\n",
    "#         \"content\": \"You are a helpful assistant.\"\n",
    "#       },\n",
    "#       {\n",
    "#         \"role\": \"user\",\n",
    "#         \"content\": prompt1,\n",
    "#       }\n",
    "#     ],\n",
    "#     response_format=response_format,\n",
    "#     max_tokens=256\n",
    "# )\n",
    "# print(json.dumps(response.choices[0].message.model_dump(), indent=2))"
   ]
  }
 ],
 "metadata": {
  "application/vnd.databricks.v1+notebook": {
   "computePreferences": null,
   "dashboards": [],
   "environmentMetadata": {
    "base_environment": "",
    "environment_version": "2"
   },
   "language": "python",
   "notebookMetadata": {
    "pythonIndentUnit": 2
   },
   "notebookName": "Optimization interview coding style with GenAI",
   "widgets": {}
  },
  "language_info": {
   "name": "python"
  }
 },
 "nbformat": 4,
 "nbformat_minor": 0
}
