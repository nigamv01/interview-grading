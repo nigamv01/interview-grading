{
 "cells": [
  {
   "cell_type": "code",
   "execution_count": 0,
   "metadata": {
    "application/vnd.databricks.v1+cell": {
     "cellMetadata": {
      "byteLimit": 2048000,
      "rowLimit": 10000
     },
     "inputWidgets": {},
     "nuid": "8a82f190-dbec-428c-b8a8-991f921373dd",
     "showTitle": false,
     "tableResultSettingsMap": {},
     "title": ""
    }
   },
   "outputs": [],
   "source": [
    "%pip install nbformat databricks-sdk[openai]==0.38.0 dspy --quiet\n",
    "dbutils.library.restartPython()"
   ]
  },
  {
   "cell_type": "code",
   "execution_count": 0,
   "metadata": {
    "application/vnd.databricks.v1+cell": {
     "cellMetadata": {
      "byteLimit": 2048000,
      "rowLimit": 10000
     },
     "inputWidgets": {},
     "nuid": "555bb1a0-41dd-4982-82f8-08828d0c0dd0",
     "showTitle": false,
     "tableResultSettingsMap": {},
     "title": ""
    }
   },
   "outputs": [],
   "source": [
    "%run ../prompts/sql_prompts_with_DSPy "
   ]
  },
  {
   "cell_type": "code",
   "execution_count": 0,
   "metadata": {
    "application/vnd.databricks.v1+cell": {
     "cellMetadata": {
      "byteLimit": 2048000,
      "rowLimit": 10000
     },
     "inputWidgets": {},
     "nuid": "723a26f7-bf12-4e7d-9626-a95a21c8a5a2",
     "showTitle": false,
     "tableResultSettingsMap": {},
     "title": ""
    }
   },
   "outputs": [],
   "source": [
    "%run ../prompts/ml_prompts_with_DSPy"
   ]
  },
  {
   "cell_type": "code",
   "execution_count": 0,
   "metadata": {
    "application/vnd.databricks.v1+cell": {
     "cellMetadata": {
      "byteLimit": 2048000,
      "rowLimit": 10000
     },
     "inputWidgets": {},
     "nuid": "756027f5-9b2a-46ab-820c-7ecc3e9f8cf4",
     "showTitle": false,
     "tableResultSettingsMap": {},
     "title": ""
    }
   },
   "outputs": [],
   "source": [
    "%run ../prompts/optimization_prompts_with_DSPy"
   ]
  },
  {
   "cell_type": "code",
   "execution_count": 0,
   "metadata": {
    "application/vnd.databricks.v1+cell": {
     "cellMetadata": {
      "byteLimit": 2048000,
      "rowLimit": 10000
     },
     "inputWidgets": {},
     "nuid": "4da7e05a-f548-45ec-b1ae-190733a0294b",
     "showTitle": false,
     "tableResultSettingsMap": {},
     "title": ""
    }
   },
   "outputs": [],
   "source": [
    "%run ../helper/GradingModule"
   ]
  },
  {
   "cell_type": "code",
   "execution_count": 0,
   "metadata": {
    "application/vnd.databricks.v1+cell": {
     "cellMetadata": {
      "byteLimit": 2048000,
      "rowLimit": 10000
     },
     "inputWidgets": {},
     "nuid": "a2586d01-753c-40d3-bbd0-feb1e0f24f0b",
     "showTitle": false,
     "tableResultSettingsMap": {},
     "title": ""
    }
   },
   "outputs": [],
   "source": [
    "module = Module(databricks.sdk.WorkspaceClient())"
   ]
  },
  {
   "cell_type": "code",
   "execution_count": 0,
   "metadata": {
    "application/vnd.databricks.v1+cell": {
     "cellMetadata": {
      "byteLimit": 2048000,
      "rowLimit": 10000
     },
     "inputWidgets": {},
     "nuid": "ee040399-add3-44b2-ae01-f0f9f5bae0ce",
     "showTitle": false,
     "tableResultSettingsMap": {},
     "title": ""
    }
   },
   "outputs": [],
   "source": [
    "candidate_dict = {\n",
    "  \"X\": {\n",
    "    \"SQL\": \"/Workspace/Users/vibhor.nigam@databricks.com/interview-scripts/interview-grading/example-notebooks-sql/01-SQL-X\",\n",
    "    \"Optimization\": \"/Workspace/Users/vibhor.nigam@databricks.com/interview-scripts/interview-grading/example-notebooks-optimization/Optimization-X\",\n",
    "    \"ML\": \"/Workspace/Users/vibhor.nigam@databricks.com/interview-scripts/interview-grading/example-notebooks-ml/04-Machine-Learning-X\"\n",
    "  },\n",
    "  \"Y\": {\n",
    "    \"SQL\": \"/Workspace/Users/vibhor.nigam@databricks.com/interview-scripts/interview-grading/example-notebooks-sql/01-SQL-Y\"\n",
    "  },\n",
    "  \"Z\": {\n",
    "    \"SQL\": \"/Workspace/Users/vibhor.nigam@databricks.com/interview-scripts/interview-grading/example-notebooks-sql/01-SQL-Z\"\n",
    "  },\n",
    "  \"A\": {\n",
    "    \"SQL\": \"/Workspace/Users/vibhor.nigam@databricks.com/interview-scripts/interview-grading/example-notebooks-sql/01-SQL-A\"\n",
    "  }\n",
    "\n",
    "}\n",
    "\n",
    "human_graded_dict = {\n",
    "  \"X\": {\n",
    "    \"SQL\": [15,15,15,15,15,25],\n",
    "    \"Optimization\": [1,0,1,1,1,1,1,0],\n",
    "    \"ML\": [5, 30, 25, 5, 0]\n",
    "  }\n",
    "}\n",
    "\n",
    "module_list = {\n",
    "  \"SQL\": module_dict_sql,\n",
    "  \"Optimization\": module_dict_optimization,\n",
    "  \"ML\": module_dict_ml\n",
    "}\n",
    "\n",
    "llm_models = {\n",
    "  'llm-405B': 'databricks/databricks-meta-llama-3-1-405b-instruct',\n",
    "  # 'llm-70B': 'databricks/databricks-meta-llama-3-3-70b-instruct'\n",
    "}"
   ]
  },
  {
   "cell_type": "code",
   "execution_count": 0,
   "metadata": {
    "application/vnd.databricks.v1+cell": {
     "cellMetadata": {
      "byteLimit": 2048000,
      "rowLimit": 10000
     },
     "inputWidgets": {},
     "nuid": "d960767a-63a4-4af1-a45a-931837616103",
     "showTitle": false,
     "tableResultSettingsMap": {},
     "title": ""
    }
   },
   "outputs": [],
   "source": [
    "import time \n",
    "\n",
    "model_dict = {}\n",
    "\n",
    "for k,v in llm_models.items():\n",
    "  start_time = time.time()\n",
    "  lm = dspy.LM(llm_models[k])\n",
    "  dspy.settings.configure(lm=lm)\n",
    "  answers_dict = {}\n",
    "  for candidate, values in candidate_dict.items():\n",
    "    for section, context_path in values.items():\n",
    "      module.set_module_dict(module_list[section])\n",
    "      results = module.get_error_and_answer_dict(context_path)\n",
    "      results['answers_dict']['candidate'] = candidate\n",
    "      results['answers_dict']['section'] = section\n",
    "      results['answers_dict']['context'] = results['context'] \n",
    "      answers_dict[section] = results['answers_dict']\n",
    "      \n",
    "    end_time = time.time()\n",
    "    execution_time = end_time - start_time\n",
    "    print(f\" time taken by model {k} for execution is {execution_time} seconds\")\n",
    "    model_dict[k] = {'answers_dict': answers_dict, 'execution_time': execution_time, 'lm':lm}\n",
    "    df_to_write = spark.createDataFrame(pd.concat(model_dict['llm-405B']['answers_dict'].values(), ignore_index=True))\n",
    "    df_to_write.write.mode(\"append\").option(\"mergeSchema\", \"true\").saveAsTable(\"users.abhay_jalisatgi.training_set\")"
   ]
  },
  {
   "cell_type": "code",
   "execution_count": 0,
   "metadata": {
    "application/vnd.databricks.v1+cell": {
     "cellMetadata": {
      "byteLimit": 2048000,
      "rowLimit": 10000
     },
     "inputWidgets": {},
     "nuid": "0076d420-4d5e-4b9c-8ae1-be7809b3910b",
     "showTitle": false,
     "tableResultSettingsMap": {},
     "title": ""
    }
   },
   "outputs": [],
   "source": [
    "pd.concat(model_dict['llm-405B']['answers_dict'].values(), ignore_index=True).display()"
   ]
  },
  {
   "cell_type": "code",
   "execution_count": 0,
   "metadata": {
    "application/vnd.databricks.v1+cell": {
     "cellMetadata": {
      "byteLimit": 2048000,
      "rowLimit": 10000
     },
     "inputWidgets": {},
     "nuid": "d1dc420b-600d-47c4-885b-2b4c4f1b8f4e",
     "showTitle": false,
     "tableResultSettingsMap": {},
     "title": ""
    }
   },
   "outputs": [],
   "source": [
    "df_to_write = spark.createDataFrame(pd.concat(model_dict['llm-405B']['answers_dict'].values(), ignore_index=True))\n",
    "df_to_write.write.mode(\"overwrite\").option(\"mergeSchema\", \"true\").saveAsTable(\"users.abhay_jalisatgi.training_set\")"
   ]
  },
  {
   "cell_type": "code",
   "execution_count": 0,
   "metadata": {
    "application/vnd.databricks.v1+cell": {
     "cellMetadata": {
      "byteLimit": 2048000,
      "rowLimit": 10000
     },
     "inputWidgets": {},
     "nuid": "e9c0ff89-3e85-4d1e-a886-fcedac1dfff9",
     "showTitle": false,
     "tableResultSettingsMap": {},
     "title": ""
    }
   },
   "outputs": [],
   "source": [
    "# Use the code snippet below to check run history and cost per run etc \n",
    "# model_dict['llm-70B']['lm'].history[-1]"
   ]
  },
  {
   "cell_type": "code",
   "execution_count": 0,
   "metadata": {
    "application/vnd.databricks.v1+cell": {
     "cellMetadata": {},
     "inputWidgets": {},
     "nuid": "df5a56db-0983-4f39-a062-972452c94d0b",
     "showTitle": false,
     "tableResultSettingsMap": {},
     "title": ""
    }
   },
   "outputs": [],
   "source": []
  }
 ],
 "metadata": {
  "application/vnd.databricks.v1+notebook": {
   "computePreferences": null,
   "dashboards": [],
   "environmentMetadata": {
    "base_environment": "",
    "environment_version": "2"
   },
   "language": "python",
   "notebookMetadata": {
    "pythonIndentUnit": 2
   },
   "notebookName": "create_training_dataset",
   "widgets": {}
  },
  "language_info": {
   "name": "python"
  }
 },
 "nbformat": 4,
 "nbformat_minor": 0
}
