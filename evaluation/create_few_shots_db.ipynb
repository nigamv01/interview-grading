{
 "cells": [
  {
   "cell_type": "code",
   "execution_count": 0,
   "metadata": {
    "application/vnd.databricks.v1+cell": {
     "cellMetadata": {
      "byteLimit": 2048000,
      "rowLimit": 10000
     },
     "inputWidgets": {},
     "nuid": "3e373505-4d9b-4482-b933-b2605fa06b0b",
     "showTitle": false,
     "tableResultSettingsMap": {},
     "title": ""
    }
   },
   "outputs": [],
   "source": [
    "from pyspark.sql.functions import trim \n",
    "import pandas as pd "
   ]
  },
  {
   "cell_type": "code",
   "execution_count": 0,
   "metadata": {
    "application/vnd.databricks.v1+cell": {
     "cellMetadata": {
      "byteLimit": 2048000,
      "rowLimit": 10000
     },
     "inputWidgets": {},
     "nuid": "5e929203-b6c6-4cb3-bc77-04473f18c1fb",
     "showTitle": false,
     "tableResultSettingsMap": {},
     "title": ""
    }
   },
   "outputs": [],
   "source": [
    "question_dict = {\n",
    "  'sql_q1': \"Extract the exact code snippet from the context that creates a table/view called \\'workloads\\' and retrieves its schema. Do not generate any code.\",\n",
    "  'sql_q2': \"Extract the exact code snippet from the context that returns only a distinct list of workspaceId. Do not generate any code.\", \n",
    "  'sql_q3': \"Extract the exact code snippet from the context that returns the number of unique clusters. Do not generate, modify, or infer any code.\",\n",
    "  'sql_q4': \"\"\"Extract the exact code snippet from the context that returns the workload hours each day for the workspace ID in ordered fashion.  \n",
    "**Do not generate, modify, or suggest any code. Only extract what is explicitly present.**  \n",
    "**If no matching snippet is found, return an empty string for `code_snippet` and assign a score of 0.**\"\"\",\n",
    "  'sql_q5': \"Extract the exact code snippet from the context that returns interactive node hours per day on the different Spark versions over time. Do not generate any code\",\n",
    "  'sql_q6': \"Extract the exact code snippet from the context which returns top two most recently shipped (shipDate) Line Items per Part using window function. Do not generate any code.\"\n",
    "}\n",
    "\n",
    "score_dict = {\n",
    "  'sql_q1': 15,\n",
    "  'sql_q2': 15,\n",
    "  'sql_q3': 15,\n",
    "  'sql_q4': 15,\n",
    "  'sql_q5': 15,\n",
    "  'sql_q6': 25\n",
    "}"
   ]
  },
  {
   "cell_type": "code",
   "execution_count": 0,
   "metadata": {
    "application/vnd.databricks.v1+cell": {
     "cellMetadata": {
      "byteLimit": 2048000,
      "rowLimit": 10000
     },
     "inputWidgets": {},
     "nuid": "06ab7935-363b-40b8-a8a7-0ba583fb8ace",
     "showTitle": false,
     "tableResultSettingsMap": {},
     "title": ""
    }
   },
   "outputs": [],
   "source": [
    "question_dict['sql_q1']"
   ]
  },
  {
   "cell_type": "code",
   "execution_count": 0,
   "metadata": {
    "application/vnd.databricks.v1+cell": {
     "cellMetadata": {
      "byteLimit": 2048000,
      "rowLimit": 10000
     },
     "inputWidgets": {},
     "nuid": "72202896-3de8-4326-b70a-60a06f027c75",
     "showTitle": false,
     "tableResultSettingsMap": {},
     "title": ""
    }
   },
   "outputs": [],
   "source": [
    "spark.sql(\"drop table if exists users.abhay_jalisatgi.few_shots_db\")"
   ]
  },
  {
   "cell_type": "code",
   "execution_count": 0,
   "metadata": {
    "application/vnd.databricks.v1+cell": {
     "cellMetadata": {
      "byteLimit": 2048000,
      "rowLimit": 10000
     },
     "inputWidgets": {},
     "nuid": "81a44cde-259b-4693-afdd-4e740662aeb0",
     "showTitle": false,
     "tableResultSettingsMap": {},
     "title": ""
    }
   },
   "outputs": [],
   "source": [
    "all_correct_answers = spark.read.table(\"users.abhay_jalisatgi.test_All_correct_answer_SQL\")"
   ]
  },
  {
   "cell_type": "code",
   "execution_count": 0,
   "metadata": {
    "application/vnd.databricks.v1+cell": {
     "cellMetadata": {
      "byteLimit": 2048000,
      "rowLimit": 10000
     },
     "inputWidgets": {},
     "nuid": "6d2d01db-feef-4c04-8c17-51c35db77989",
     "showTitle": false,
     "tableResultSettingsMap": {},
     "title": ""
    }
   },
   "outputs": [],
   "source": [
    "\n",
    "all_answers_df = pd.DataFrame()\n",
    "for k, v in question_dict.items():\n",
    "  filtered_answers = all_correct_answers.filter(\n",
    "      (trim(all_correct_answers.question) == v) & \n",
    "      (all_correct_answers.score == score_dict[k])\n",
    "  ).toPandas()\n",
    "  all_answers_df = pd.concat([all_answers_df, filtered_answers], ignore_index=True)\n",
    "\n",
    "all_answers_df = all_answers_df.drop_duplicates(subset=['question', 'score'])\n",
    "all_answers_df.display()\n"
   ]
  },
  {
   "cell_type": "code",
   "execution_count": 0,
   "metadata": {
    "application/vnd.databricks.v1+cell": {
     "cellMetadata": {
      "byteLimit": 2048000,
      "rowLimit": 10000
     },
     "inputWidgets": {},
     "nuid": "b0c80823-a534-427e-a56e-85f559f542a4",
     "showTitle": false,
     "tableResultSettingsMap": {},
     "title": ""
    }
   },
   "outputs": [],
   "source": [
    "spark.createDataFrame(all_answers_df).write.mode(\"append\").saveAsTable(\"users.abhay_jalisatgi.few_shots_db\")"
   ]
  },
  {
   "cell_type": "code",
   "execution_count": 0,
   "metadata": {
    "application/vnd.databricks.v1+cell": {
     "cellMetadata": {
      "byteLimit": 2048000,
      "rowLimit": 10000
     },
     "inputWidgets": {},
     "nuid": "3d78d984-3473-4169-93aa-555104c456d3",
     "showTitle": false,
     "tableResultSettingsMap": {},
     "title": ""
    }
   },
   "outputs": [],
   "source": [
    "attr_dict = {\n",
    "  'sql_q1': \"users.abhay_jalisatgi.test_q1_no_answer_sql\",\n",
    "  'sql_q2': \"users.abhay_jalisatgi.test_q2_no_answer_sql\",\n",
    "  'sql_q3': \"users.abhay_jalisatgi.test_q3_no_answer_sql\",\n",
    "  'sql_q4': \"users.abhay_jalisatgi.test_q4_no_answer_sql\",\n",
    "  'sql_q5': \"users.abhay_jalisatgi.test_q5_no_answer_sql\",\n",
    "  'sql_q6': \"users.abhay_jalisatgi.test_q6_no_answer_sql\"\n",
    "}"
   ]
  },
  {
   "cell_type": "code",
   "execution_count": 0,
   "metadata": {
    "application/vnd.databricks.v1+cell": {
     "cellMetadata": {
      "byteLimit": 2048000,
      "rowLimit": 10000
     },
     "inputWidgets": {},
     "nuid": "cbc28bdc-f2ab-4df0-a3cd-9377627acc63",
     "showTitle": false,
     "tableResultSettingsMap": {},
     "title": ""
    }
   },
   "outputs": [],
   "source": [
    "for k,v in attr_dict.items():\n",
    "  df = spark.read.table(v)\n",
    "  filtered_answer = df.filter((trim(df.question) == question_dict[k]) & (df.score == 0)).toPandas()\n",
    "  filtered_answer = filtered_answer.drop_duplicates(subset=['question', 'score'])\n",
    "  spark.createDataFrame(filtered_answer).write.mode(\"append\").saveAsTable(\"users.abhay_jalisatgi.few_shots_db\")"
   ]
  },
  {
   "cell_type": "code",
   "execution_count": 0,
   "metadata": {
    "application/vnd.databricks.v1+cell": {
     "cellMetadata": {
      "byteLimit": 2048000,
      "rowLimit": 10000
     },
     "inputWidgets": {},
     "nuid": "1da10458-9614-4e2b-8230-60c2a2bb90c5",
     "showTitle": false,
     "tableResultSettingsMap": {},
     "title": ""
    }
   },
   "outputs": [],
   "source": [
    "df = spark.read.table(\"users.abhay_jalisatgi.few_shots_db\")\n",
    "df_selected = df.select('question', 'context', 'score', 'chain_of_thought_reasoning')\n",
    "df_selected.display()"
   ]
  },
  {
   "cell_type": "code",
   "execution_count": 0,
   "metadata": {
    "application/vnd.databricks.v1+cell": {
     "cellMetadata": {},
     "inputWidgets": {},
     "nuid": "5dc0b3ea-8611-4cc7-bf35-d618d5190632",
     "showTitle": false,
     "tableResultSettingsMap": {},
     "title": ""
    }
   },
   "outputs": [],
   "source": []
  },
  {
   "cell_type": "code",
   "execution_count": 0,
   "metadata": {
    "application/vnd.databricks.v1+cell": {
     "cellMetadata": {},
     "inputWidgets": {},
     "nuid": "8f44bf9b-c7b6-428c-81f2-434c49523389",
     "showTitle": false,
     "tableResultSettingsMap": {},
     "title": ""
    }
   },
   "outputs": [],
   "source": []
  },
  {
   "cell_type": "code",
   "execution_count": 0,
   "metadata": {
    "application/vnd.databricks.v1+cell": {
     "cellMetadata": {},
     "inputWidgets": {},
     "nuid": "64cef602-55da-432d-952a-098fdabfe00d",
     "showTitle": false,
     "tableResultSettingsMap": {},
     "title": ""
    }
   },
   "outputs": [],
   "source": [
    "import dspy\n",
    "from dspy.datasets import HotPotQA\n",
    "\n",
    "# Define your LLM (replace with your actual configuration)\n",
    "turbo = dspy.OpenAI(model=\"gpt-3.5-turbo-instruct\", max_tokens=300) # or gpt-4, or Cohere, etc.\n",
    "dspy.settings.configure(lm=turbo)\n",
    "\n",
    "\n",
    "# Define a simple signature (you'll likely have a more complex one)\n",
    "class BasicQA(dspy.Signature):\n",
    "    \"\"\"Answer questions with short factoid answers.\"\"\"\n",
    "    question = dspy.InputField()\n",
    "    answer = dspy.OutputField()\n",
    "\n",
    "# Create a module that uses the signature\n",
    "class GenerateAnswer(dspy.Module):\n",
    "    def __init__(self):\n",
    "        super().__init__()\n",
    "        self.generate_answer = dspy.Predict(BasicQA)\n",
    "\n",
    "    def forward(self, question):\n",
    "        return self.generate_answer(question=question)\n",
    "\n",
    "# Create few-shot examples using dspy.Example\n",
    "train_examples = [\n",
    "    dspy.Example(question=\"What is the capital of France?\", answer=\"Paris\").with_inputs(\"question\"),\n",
    "    dspy.Example(question=\"What is the highest mountain in the world?\", answer=\"Mount Everest\").with_inputs(\"question\"),\n",
    "    dspy.Example(question=\"Who painted the Mona Lisa?\", answer=\"Leonardo da Vinci\").with_inputs(\"question\"),\n",
    "]\n",
    "\n",
    "# Key Changes and Explanations:\n",
    "\n",
    "# * dspy.Example(...).with_inputs(\"question\"):  This is CRUCIAL.  It tells DSPy which fields in your\n",
    "#   Example correspond to the input fields defined in your Signature (BasicQA in this case).  Without\n",
    "#   with_inputs, DSPy won't know how to use the examples correctly.  It specifies that only the\n",
    "#   \"question\" field should be considered as input during training or demonstration. The \"answer\"\n",
    "#   field is *not* an input; it's what we *want* the LM to produce.\n",
    "\n",
    "# Instantiate the module\n",
    "qa_module = GenerateAnswer()\n",
    "\n",
    "# Demonstrate the few-shot examples to the module\n",
    "qa_module.generate_answer.demos = train_examples # This is how you attach the examples\n",
    "\n",
    "# Now, use the module\n",
    "prediction = qa_module(question=\"Who wrote Hamlet?\")\n",
    "print(prediction.answer)\n",
    "\n",
    "# Example with a more complex signature and multiple inputs\n",
    "class ContextualQA(dspy.Signature):\n",
    "    \"\"\"Answer questions based on the given context.\"\"\"\n",
    "    context = dspy.InputField()\n",
    "    question = dspy.InputField()\n",
    "    answer = dspy.OutputField()\n",
    "\n",
    "class GenerateContextualAnswer(dspy.Module):\n",
    "    def __init__(self):\n",
    "        super().__init__()\n",
    "        self.generate_answer = dspy.Predict(ContextualQA)\n",
    "\n",
    "    def forward(self, context, question):\n",
    "        return self.generate_answer(context=context, question=question)\n",
    "\n",
    "train_examples_contextual = [\n",
    "    dspy.Example(context=\"The Eiffel Tower is a wrought-iron lattice tower located in Paris, France.\", question=\"Where is the Eiffel Tower located?\", answer=\"Paris, France\").with_inputs(\"context\", \"question\"),\n",
    "    dspy.Example(context=\"Mount Everest, also known as Sagarmatha in Nepali, is Earth's highest mountain above sea level.\", question=\"What is another name for Mount Everest?\", answer=\"Sagarmatha\").with_inputs(\"context\", \"question\"),\n",
    "]\n",
    "\n",
    "contextual_qa_module = GenerateContextualAnswer()\n",
    "contextual_qa_module.generate_answer.demos = train_examples_contextual\n",
    "\n",
    "prediction = contextual_qa_module(context=\"Shakespeare wrote many famous plays, including Hamlet, Macbeth, and Romeo and Juliet.\", question=\"Name a play written by Shakespeare.\")\n",
    "print(prediction.answer)"
   ]
  }
 ],
 "metadata": {
  "application/vnd.databricks.v1+notebook": {
   "computePreferences": null,
   "dashboards": [],
   "environmentMetadata": {
    "base_environment": "",
    "environment_version": "2"
   },
   "language": "python",
   "notebookMetadata": {
    "pythonIndentUnit": 2
   },
   "notebookName": "create_few_shots_db",
   "widgets": {}
  },
  "language_info": {
   "name": "python"
  }
 },
 "nbformat": 4,
 "nbformat_minor": 0
}
