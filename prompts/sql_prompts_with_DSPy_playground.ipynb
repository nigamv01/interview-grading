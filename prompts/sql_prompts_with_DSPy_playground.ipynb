{
 "cells": [
  {
   "cell_type": "code",
   "execution_count": 0,
   "metadata": {
    "application/vnd.databricks.v1+cell": {
     "cellMetadata": {
      "byteLimit": 2048000,
      "rowLimit": 10000
     },
     "inputWidgets": {},
     "nuid": "f96bdedb-f9e7-4d8f-9c50-231b9852cf59",
     "showTitle": false,
     "tableResultSettingsMap": {},
     "title": ""
    }
   },
   "outputs": [],
   "source": [
    "%run ./system_prompts"
   ]
  },
  {
   "cell_type": "code",
   "execution_count": 0,
   "metadata": {
    "application/vnd.databricks.v1+cell": {
     "cellMetadata": {
      "byteLimit": 2048000,
      "rowLimit": 10000
     },
     "inputWidgets": {},
     "nuid": "4a8a4e1f-bb02-4186-af67-6212963db2d2",
     "showTitle": false,
     "tableResultSettingsMap": {},
     "title": ""
    }
   },
   "outputs": [],
   "source": [
    "import dspy"
   ]
  },
  {
   "cell_type": "code",
   "execution_count": 0,
   "metadata": {
    "application/vnd.databricks.v1+cell": {
     "cellMetadata": {},
     "inputWidgets": {},
     "nuid": "813ebe6a-0e8c-4466-99a4-a01e1347859f",
     "showTitle": false,
     "tableResultSettingsMap": {},
     "title": ""
    }
   },
   "outputs": [],
   "source": [
    "class SQLPrompt1AntiHallucination(dspy.Signature):\n",
    "    \"\"\"Extract an EXACT, VERBATIM code snippet from the 'context' ONLY IF it meets ALL criteria.  Hallucination is STRICTLY PROHIBITED.\n",
    "\n",
    "    **CRITICAL RULES - READ CAREFULLY:**\n",
    "\n",
    "    1.  **ABSOLUTELY NO GENERATION:** You are FORBIDDEN from generating ANY code. Your task is PURE EXTRACTION, not creation.\n",
    "    2.  **VERBATIM MATCH ONLY:** The extracted code snippet MUST be a 100% character-for-character match with a portion of the 'context'.  ANY deviation is unacceptable.\n",
    "    3.  **NO COMMENTS:** Ignore ALL commented-out code.  Only consider uncommented, executable code.\n",
    "    4.  **CONTEXT IS THE ONLY SOURCE:**  The 'context' input is the *SOLE* source of truth.  Do NOT use the 'question' for extraction or scoring.\n",
    "    5.  **'workloads' AND Schema Display REQUIRED:** The extracted snippet MUST create/define a table/view named 'workloads' AND display its schema (e.g., using a command like DESCRIBE, SHOW CREATE TABLE, etc.).\n",
    "    6.  **EMPTY STRING IS THE DEFAULT:** If NO snippet in the 'context' meets ALL criteria, the 'code_snippet' MUST be an EMPTY STRING.  This is the EXPECTED behavior in most cases.\n",
    "    7.  **ZERO TOLERANCE FOR HALLUCINATION:**  Any 'code_snippet' that is not a verbatim extract from the 'context' will be considered a MAJOR FAILURE.\n",
    "\n",
    "    **Consequences of Hallucination:**\n",
    "\n",
    "    *   Incorrect 'code_snippet' values will lead to immediate rejection.\n",
    "    *   Focus on accuracy and adherence to the rules.  An empty string is ALWAYS preferable to an incorrect guess.\n",
    "    \"\"\"\n",
    "\n",
    "    text: str = dspy.InputField(desc=\"The text containing potential SQL code snippets. This is your ONLY source of information.\")\n",
    "\n",
    "    code_snippet: str = dspy.OutputField(\n",
    "        desc=\"\"\"The EXACT, VERBATIM code snippet from the 'context' that fulfills ALL requirements.\n",
    "               If NO such snippet exists, return an EMPTY STRING.  An empty string is the CORRECT response if no match is found.\n",
    "               DO NOT GUESS. DO NOT GENERATE. EXTRACT ONLY.\"\"\"\n",
    "    )\n",
    "\n",
    "    score: str = dspy.OutputField(\n",
    "        desc=\"\"\"Score based SOLELY on the 'code_snippet':\n",
    "               - 15: If 'code_snippet' is NON-EMPTY, creates 'workloads', AND displays its schema (verbatim from 'context').\n",
    "               - 7.5: If 'code_snippet' is NON-EMPTY, creates 'workloads', but DOES NOT display its schema (verbatim from 'context').\n",
    "               - 0:  If 'code_snippet' is EMPTY (no match found) OR does not create 'workloads' (verbatim from 'context'). This is the most common and often correct score.\"\"\"\n",
    "    )\n",
    "\n",
    "    explanation: str = dspy.OutputField(\n",
    "        desc=\"\"\"Explain the 'score' based ONLY on the 'code_snippet'.\n",
    "               Justify the score (0, 7.5, or 15) by explicitly referencing the presence/absence of 'workloads' creation and schema display IN THE EXTRACTED SNIPPET.\n",
    "               If the 'code_snippet' is empty, state this clearly and explain that no matching code was found in the 'context'.\"\"\"\n",
    "    )"
   ]
  },
  {
   "cell_type": "code",
   "execution_count": 0,
   "metadata": {
    "application/vnd.databricks.v1+cell": {
     "cellMetadata": {},
     "inputWidgets": {},
     "nuid": "4bec5627-27ca-4a29-ac10-fb4dc9e50a45",
     "showTitle": false,
     "tableResultSettingsMap": {},
     "title": ""
    }
   },
   "outputs": [],
   "source": [
    "class SQLPrompt2AntiHallucination(dspy.Signature):\n",
    "    \"\"\"Extract a *VERBATIM* SQL code snippet from the 'context' ONLY if it returns a distinct list of 'workspaceId' *AND NOTHING ELSE*.  Hallucination is STRICTLY FORBIDDEN.\n",
    "\n",
    "    **MANDATORY RULES - NO EXCEPTIONS:**\n",
    "\n",
    "    1.  **ZERO CODE GENERATION:** You MUST NOT generate ANY SQL code. Your ONLY task is to FIND and EXTRACT an *EXACT* match within the 'context'.\n",
    "    2.  **PERFECT MATCH REQUIRED:** The extracted code snippet MUST be a 100% character-for-character copy of a section within the 'context'.  ANY alteration is a FAILURE.\n",
    "    3.  **IGNORE ALL COMMENTS:**  Completely disregard any commented-out code (e.g., lines starting with `--` or enclosed in `/* ... */`).\n",
    "    4.  **CONTEXT IS THE SOLE SOURCE:**  Base your extraction and scoring EXCLUSIVELY on the 'context'. The 'question' is IRRELEVANT and MUST be IGNORED.\n",
    "    5.  **STRICT 'workspaceId' CRITERIA:** The extracted snippet MUST:\n",
    "        *   Select ONLY the `workspaceId` column.\n",
    "        *   Use the `DISTINCT` keyword (or equivalent) to return only unique values.\n",
    "        *   Contain NO other columns, `WHERE` clauses, `GROUP BY` clauses, `ORDER BY` clauses, `LIMIT` clauses, or any other operations.  It must be a simple `SELECT DISTINCT workspaceId ...` query.\n",
    "    6.  **EMPTY STRING IS THE DEFAULT:** If NO snippet in the 'context' PERFECTLY matches ALL criteria, the 'code_snippet' MUST be an EMPTY STRING.  This is the expected and correct behavior in most situations.\n",
    "    7.  **ABSOLUTE ZERO TOLERANCE FOR HALLUCINATION:** Any 'code_snippet' that is NOT a verbatim extract from the 'context' is a CRITICAL ERROR and will be REJECTED.\n",
    "\n",
    "    **CONSEQUENCES OF FAILURE:**\n",
    "\n",
    "    *   Generating code, extracting incorrect code, or misinterpreting the 'question' will result in IMMEDIATE REJECTION.\n",
    "    *   Prioritize ACCURACY and ADHERENCE to these rules.  An EMPTY STRING is ALWAYS better than a guess.\n",
    "    \"\"\"\n",
    "\n",
    "    text: str = dspy.InputField(\n",
    "        desc=\"The text containing potential SQL code snippets. This is your ONLY source of information.  Do NOT use any other information.\"\n",
    "    )\n",
    "\n",
    "    code_snippet: str = dspy.OutputField(\n",
    "        desc=\"\"\"The EXACT, VERBATIM code snippet from the 'context' that selects ONLY a distinct list of 'workspaceId' and NOTHING ELSE.\n",
    "               If NO such snippet exists, return an EMPTY STRING.  An empty string is the CORRECT and EXPECTED response if no match is found.\n",
    "               ABSOLUTELY NO GUESSING. NO GENERATION. ONLY EXTRACT.\"\"\"\n",
    "    )\n",
    "\n",
    "    score: str = dspy.OutputField(\n",
    "        desc=\"\"\"Score based EXCLUSIVELY on the 'code_snippet':\n",
    "               - 15: If 'code_snippet' is NON-EMPTY and returns ONLY a distinct list of 'workspaceId' (verbatim from 'context').\n",
    "               - 0: If 'code_snippet' is EMPTY (no match found) OR returns anything other than ONLY a distinct list of 'workspaceId' (verbatim from 'context'). This is the most likely and often the correct score.\n",
    "               THERE ARE NO OTHER POSSIBLE SCORES.\"\"\"\n",
    "    )\n",
    "\n",
    "    explanation: str = dspy.OutputField(\n",
    "        desc=\"\"\"Explain the 'score' based ONLY on the 'code_snippet'.\n",
    "               Justify the score (0 or 15) by explicitly stating whether a matching snippet was found in the 'context'.\n",
    "               If 'code_snippet' is empty, clearly state that no code in the 'context' met ALL the strict criteria.\n",
    "               Refer directly to the presence/absence of ONLY the distinct 'workspaceId' selection in the extracted snippet.\"\"\"\n",
    "    )"
   ]
  },
  {
   "cell_type": "code",
   "execution_count": 0,
   "metadata": {
    "application/vnd.databricks.v1+cell": {
     "cellMetadata": {},
     "inputWidgets": {},
     "nuid": "803798ab-b5b0-4365-85be-6eb54191a40d",
     "showTitle": false,
     "tableResultSettingsMap": {},
     "title": ""
    }
   },
   "outputs": [],
   "source": [
    "# class SQLPrompt2(dspy.Signature):\n",
    "#     \"\"\" Check if the provided context has any code snippet which return a distinct list of workspaceID \"\"\"\n",
    "\n",
    "#     text: str = dspy.InputField()\n",
    "    \n",
    "#     score: str = dspy.OutputField(desc=\"15 if any code snippet below return a distinct list of workspaceID, 0 if no code snippet returns a list of distinct workspace id,\")\n",
    "    \n",
    "#     code_snippet: str = dspy.OutputField(desc=\"provide the code snippet which returns a distinct list of workspace id  encapsulated as a string\") "
   ]
  },
  {
   "cell_type": "code",
   "execution_count": 0,
   "metadata": {
    "application/vnd.databricks.v1+cell": {
     "cellMetadata": {},
     "inputWidgets": {},
     "nuid": "3f598764-ed52-46f7-aca3-8ee299492c45",
     "showTitle": false,
     "tableResultSettingsMap": {},
     "title": ""
    }
   },
   "outputs": [],
   "source": [
    "class SQLPrompt3(dspy.Signature):\n",
    "    \"\"\" Check if the provided context has any code snippet which returns the  number of unique clusters. \"\"\"\n",
    "\n",
    "    text: str = dspy.InputField()\n",
    "    \n",
    "    score: str = dspy.OutputField(desc=\"15 if any code snippet below returns the  number of unique clusters, 0 if no code snippet returns the number of unique clusters\")\n",
    "    \n",
    "    code_snippet: str = dspy.OutputField(desc=\"provide the code snippet which returns the  number of unique clusters encapsulated as a string\") "
   ]
  },
  {
   "cell_type": "code",
   "execution_count": 0,
   "metadata": {
    "application/vnd.databricks.v1+cell": {
     "cellMetadata": {},
     "inputWidgets": {},
     "nuid": "9d517d38-c5e8-4457-8e97-f700dd548712",
     "showTitle": false,
     "tableResultSettingsMap": {},
     "title": ""
    }
   },
   "outputs": [],
   "source": [
    "class SQLPrompt4(dspy.Signature):\n",
    "    \"\"\" Check if the provided context has any code snippet which returns the  workload hours each day for the workspace id in ordered fashion \"\"\"\n",
    "\n",
    "    text: str = dspy.InputField()\n",
    "    \n",
    "    score: str = dspy.OutputField(desc=\"15 if any code snippet below returns the  workload hours each day for the workspace id in ordered fashion, 12 points if any code snippet below returns workload hours each day for the workspace id but the order is missing, 12 points if grouping is based on date , 0 if no code snippet returns workload hours each day for the workspace id\")\n",
    "\n",
    "    code_snippet: str = dspy.OutputField(desc=\"provide the code snippet which returns the  workload hours each day for the workspace id encapsulated as a string\") "
   ]
  },
  {
   "cell_type": "code",
   "execution_count": 0,
   "metadata": {
    "application/vnd.databricks.v1+cell": {
     "cellMetadata": {},
     "inputWidgets": {},
     "nuid": "0043d6d5-0ac9-4ddb-9123-bf0a1c1917dc",
     "showTitle": false,
     "tableResultSettingsMap": {},
     "title": ""
    }
   },
   "outputs": [],
   "source": [
    "class SQLPrompt5(dspy.Signature):\n",
    "    \"\"\" Check if the provided context has any code snippet which returns interactive node hours per day on the different Spark versions over time \"\"\"\n",
    "\n",
    "    text: str = dspy.InputField()\n",
    "    \n",
    "    score: str = dspy.OutputField(desc=\"15 if any code snippet below returns interactive node hours per day on the different Spark versions over time, 0 if no code snippet returns interactive node hours per day on the different Spark versions over time\")\n",
    "\n",
    "    code_snippet: str = dspy.OutputField(desc=\"provide the code snippet which returns interactive node hours per day on the different Spark versions over time encapsulated as a string\") "
   ]
  },
  {
   "cell_type": "code",
   "execution_count": 0,
   "metadata": {
    "application/vnd.databricks.v1+cell": {
     "cellMetadata": {},
     "inputWidgets": {},
     "nuid": "271fbd58-969a-47e3-b2bf-7a42b1262e7c",
     "showTitle": false,
     "tableResultSettingsMap": {},
     "title": ""
    }
   },
   "outputs": [],
   "source": [
    "class SQLPrompt6(dspy.Signature):\n",
    "    \"\"\" Check if the provided context has any code snippet which returns top two most recently shipped (shipDate) Line Items per Part using window function \"\"\"\n",
    "\n",
    "    text: str = dspy.InputField()\n",
    "    \n",
    "    score: str = dspy.OutputField(desc=\"25 if any code snippet below returns top two most recently shipped (shipDate) Line Items per Part using window function, 20  if any code snippet below returns top two most recently shipped (shipDate) Line Items per Part using subquery, 10 if any code snippet below returns top two most recently shipped (shipDate) Line Items per Part but groups by the key only, 0 if no code snippet returns top two most recently shipped (shipDate) Line Items per Part\")\n",
    "\n",
    "    code_snippet: str = dspy.OutputField(desc=\"provide the code snippet which returns top two most recently shipped (shipDate) Line Items per Part using window function encapsulated as a string\") "
   ]
  },
  {
   "cell_type": "code",
   "execution_count": 0,
   "metadata": {
    "application/vnd.databricks.v1+cell": {
     "cellMetadata": {},
     "inputWidgets": {},
     "nuid": "e92dfb80-3005-493b-b25c-f456a59dc615",
     "showTitle": false,
     "tableResultSettingsMap": {},
     "title": ""
    }
   },
   "outputs": [],
   "source": [
    "module_dict_sql = {\n",
    "  'module_1': dspy.ChainOfThought(SQLPrompt1AntiHallucination),\n",
    "  'module_2': dspy.ChainOfThought(SQLPrompt2AntiHallucination),\n",
    "  'module_3': dspy.ChainOfThought(SQLPrompt3),\n",
    "  'module_4': dspy.ChainOfThought(SQLPrompt4),\n",
    "  'module_5': dspy.ChainOfThought(SQLPrompt5),\n",
    "  'module_6': dspy.ChainOfThought(SQLPrompt6)\n",
    "}"
   ]
  },
  {
   "cell_type": "code",
   "execution_count": 0,
   "metadata": {
    "application/vnd.databricks.v1+cell": {
     "cellMetadata": {},
     "inputWidgets": {},
     "nuid": "4b304f0d-da8f-4aee-ad64-63f7ccf9e89d",
     "showTitle": false,
     "tableResultSettingsMap": {},
     "title": ""
    }
   },
   "outputs": [],
   "source": [
    "class SQLModule(dspy.Module):\n",
    "    def __init__(self, prompt_name: str):\n",
    "        super().__init__()\n",
    "        if prompt_name == \"prompt1\":\n",
    "          self.qa = dspy.ChainOfThought(SQLPrompt1AntiHallucination)\n",
    "\n",
    "    def forward(self, context, question):\n",
    "        return self.qa(context=context, question=question)"
   ]
  }
 ],
 "metadata": {
  "application/vnd.databricks.v1+notebook": {
   "computePreferences": null,
   "dashboards": [],
   "environmentMetadata": {
    "base_environment": "",
    "environment_version": "2"
   },
   "language": "python",
   "notebookMetadata": {
    "pythonIndentUnit": 2
   },
   "notebookName": "sql_prompts_with_DSPy_playground",
   "widgets": {}
  },
  "language_info": {
   "name": "python"
  }
 },
 "nbformat": 4,
 "nbformat_minor": 0
}
