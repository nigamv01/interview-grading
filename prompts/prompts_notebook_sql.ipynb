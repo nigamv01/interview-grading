{
 "cells": [
  {
   "cell_type": "code",
   "execution_count": 0,
   "metadata": {
    "application/vnd.databricks.v1+cell": {
     "cellMetadata": {},
     "inputWidgets": {},
     "nuid": "15cea277-9b4e-40a3-823a-4b41fc4f6b87",
     "showTitle": false,
     "tableResultSettingsMap": {},
     "title": ""
    }
   },
   "outputs": [],
   "source": [
    "sql_prompt_dict = {\n",
    "  \"prompt_instructions_1\": \"\"\" \n",
    "  Check if the provided context has any code snippet which creates a table/view called workloads and get shcema of workloads\n",
    "  Return the result in json format: \n",
    "  {\n",
    "    score: 15 if any code snippet below creates a table/view and displays its schema, 7.5 if it creates a table/view but does not display its schema,  0 if no code snippet creates a table/view,\n",
    "\n",
    "    code_snippet: provide the code snippet which creates a table/view and displays its schema encapsulated as a string,\n",
    "\n",
    "    reasoning: provide your explanation for providing the above score in less than 50 words \n",
    "  }\n",
    "  Return result in the above mentioned format only. \n",
    "  \"\"\",\n",
    "\n",
    "  \"prompt_instructions_2\": \"\"\" \n",
    "  Check if the provided context has any code snippet which return a distinct list of workspaceID. \n",
    "    Return the result in json format :  \n",
    "    {\n",
    "        score: 15 if any code snippet below return a distinct list of workspaceID, 0 if no code snippet returns a list of distinct workspace id,\n",
    "    \n",
    "        code_snippet: provide the code snippet which returns a distinct list of workspace id  encapsulated as a string,\n",
    "\n",
    "        reasoning: provide your explanation for providing the above score in less than 50 words \n",
    "    }\n",
    "    Return result in the above mentioned format only.\n",
    "  \"\"\",\n",
    "\n",
    "  \"prompt_instructions_3\": \"\"\" \n",
    "  Check if the provided context has any code snippet which returns the  number of unique clusters. \n",
    "    Return the result in json format : \n",
    "    {\n",
    "      score: 15 if any code snippet below returns the  number of unique clusters, 0 if no code snippet returns the number of unique clusters,\n",
    "\n",
    "      code_snippet: provide the code snippet which returns the  number of unique clusters encapsulated as a string,\n",
    "\n",
    "      reasoning: provide your explanation for providing the above score in less than 50 words \n",
    "    }\n",
    "    Return result in the above mentioned format only. \n",
    "  \"\"\",\n",
    "\n",
    "  \"prompt_instructions_4\": \"\"\" \n",
    "  Check if the provided context has any code snippet which returns the  workload hours each day for the workspace id in ordered fashion. \n",
    "    Return the result in json format : \n",
    "    {\n",
    "      score: 15 if any code snippet below returns the  workload hours each day for the workspace id in ordered fashion, 12 points if any code snippet below returns workload hours each day for the workspace id but the order is missing, , 0 if no code snippet returns workload hours each day for the workspace id,\n",
    "\n",
    "      code_snippet: provide the code snippet which returns the  workload hours each day for the workspace id encapsulated as a string,\n",
    "\n",
    "      reasoning: provide your explanation for providing the above score in less than 50 words \n",
    "    }\n",
    "    Return result in the above mentioned format only. \n",
    "  \"\"\",\n",
    "\n",
    "  \"prompt_instructions_5\": \"\"\" \n",
    "  Check if the provided context has any code snippet which returns interactive node hours per day on the different Spark versions over time. \n",
    "    Return the result in json format : \n",
    "    {\n",
    "      score: 15 if any code snippet below returns interactive node hours per day on the different Spark versions over time, 0 if no code snippet returns interactive node hours per day on the different Spark versions over time,\n",
    "\n",
    "      code_snippet: provide the code snippet which returns interactive node hours per day on the different Spark versions over time encapsulated as a string,\n",
    "\n",
    "      reasoning: provide your explanation for providing the above score in less than 50 words \n",
    "    }\n",
    "    Return result in the above mentioned format only. \n",
    "  \"\"\",\n",
    "\n",
    "  \"prompt_instructions_6\": \"\"\" \n",
    "  Check if the provided context has any code snippet which returns top two most recently shipped (shipDate) Line Items per Part using window function \n",
    "    Return the result in json format : \n",
    "    {\n",
    "      score: 25 if any code snippet below returns top two most recently shipped (shipDate) Line Items per Part using window function, 20  if any code snippet below returns top two most recently shipped (shipDate) Line Items per Part using subquery, 10 if any code snippet below returns top two most recently shipped (shipDate) Line Items per Part but groups by the key only, 0 if no code snippet returns top two most recently shipped (shipDate) Line Items per Part,\n",
    "\n",
    "      code_snippet: provide the code snippet which returns top two most recently shipped (shipDate) Line Items per Part using window function encapsulated as a string,\n",
    "\n",
    "      reasoning: provide your explanation for providing the above score in less than 50 words \n",
    "    }\n",
    "    Return result in the above mentioned format only.\n",
    "  \"\"\"\n",
    "\n",
    "}"
   ]
  },
  {
   "cell_type": "code",
   "execution_count": 0,
   "metadata": {
    "application/vnd.databricks.v1+cell": {
     "cellMetadata": {},
     "inputWidgets": {},
     "nuid": "53357bac-6824-4b2b-89c0-aba5fb3f6ad8",
     "showTitle": false,
     "tableResultSettingsMap": {},
     "title": ""
    }
   },
   "outputs": [],
   "source": []
  }
 ],
 "metadata": {
  "application/vnd.databricks.v1+notebook": {
   "computePreferences": null,
   "dashboards": [],
   "environmentMetadata": {
    "base_environment": "",
    "environment_version": "2"
   },
   "language": "python",
   "notebookMetadata": {
    "pythonIndentUnit": 2
   },
   "notebookName": "prompts_notebook_sql",
   "widgets": {}
  },
  "language_info": {
   "name": "python"
  }
 },
 "nbformat": 4,
 "nbformat_minor": 0
}
