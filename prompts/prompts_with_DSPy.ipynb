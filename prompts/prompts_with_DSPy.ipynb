{
 "cells": [
  {
   "cell_type": "code",
   "execution_count": 0,
   "metadata": {
    "application/vnd.databricks.v1+cell": {
     "cellMetadata": {},
     "inputWidgets": {},
     "nuid": "2f051c50-a43f-4154-843b-8df3cda6a2ee",
     "showTitle": false,
     "tableResultSettingsMap": {},
     "title": ""
    }
   },
   "outputs": [],
   "source": [
    "class SQLPrompt1(dspy.Signature):\n",
    "    \"\"\" Check if the provided context has any code snippet which creates a table/view called workloads and get shcema of workloads \"\"\"\n",
    "\n",
    "    text: str = dspy.InputField()\n",
    "    \n",
    "    score: str = dspy.OutputField(desc=\"15 if any code snippet below creates a table/view and displays its schema, 7.5 if it creates a table/view but does not display its schema,  0 if no code snippet creates a table/view\")\n",
    "    \n",
    "    code_snippet: str = dspy.OutputField(desc=\"provide the code snippet which creates a table/view and displays its schema encapsulated as a string\") "
   ]
  },
  {
   "cell_type": "code",
   "execution_count": 0,
   "metadata": {
    "application/vnd.databricks.v1+cell": {
     "cellMetadata": {},
     "inputWidgets": {},
     "nuid": "803798ab-b5b0-4365-85be-6eb54191a40d",
     "showTitle": false,
     "tableResultSettingsMap": {},
     "title": ""
    }
   },
   "outputs": [],
   "source": [
    "class SQLPrompt2(dspy.Signature):\n",
    "    \"\"\" Check if the provided context has any code snippet which return a distinct list of workspaceID \"\"\"\n",
    "\n",
    "    text: str = dspy.InputField()\n",
    "    \n",
    "    score: str = dspy.OutputField(desc=\"15 if any code snippet below return a distinct list of workspaceID, 0 if no code snippet returns a list of distinct workspace id,\")\n",
    "    \n",
    "    code_snippet: str = dspy.OutputField(desc=\"provide the code snippet which returns a distinct list of workspace id  encapsulated as a string\") "
   ]
  },
  {
   "cell_type": "code",
   "execution_count": 0,
   "metadata": {
    "application/vnd.databricks.v1+cell": {
     "cellMetadata": {},
     "inputWidgets": {},
     "nuid": "3f598764-ed52-46f7-aca3-8ee299492c45",
     "showTitle": false,
     "tableResultSettingsMap": {},
     "title": ""
    }
   },
   "outputs": [],
   "source": [
    "class SQLPrompt3(dspy.Signature):\n",
    "    \"\"\" Check if the provided context has any code snippet which returns the  number of unique clusters. \"\"\"\n",
    "\n",
    "    text: str = dspy.InputField()\n",
    "    \n",
    "    score: str = dspy.OutputField(desc=\"15 if any code snippet below returns the  number of unique clusters, 0 if no code snippet returns the number of unique clusters\")\n",
    "    \n",
    "    code_snippet: str = dspy.OutputField(desc=\"provide the code snippet which returns the  number of unique clusters encapsulated as a string\") "
   ]
  },
  {
   "cell_type": "code",
   "execution_count": 0,
   "metadata": {
    "application/vnd.databricks.v1+cell": {
     "cellMetadata": {},
     "inputWidgets": {},
     "nuid": "9d517d38-c5e8-4457-8e97-f700dd548712",
     "showTitle": false,
     "tableResultSettingsMap": {},
     "title": ""
    }
   },
   "outputs": [],
   "source": [
    "class SQLPrompt4(dspy.Signature):\n",
    "    \"\"\" Check if the provided context has any code snippet which returns the  workload hours each day for the workspace id in ordered fashion \"\"\"\n",
    "\n",
    "    text: str = dspy.InputField()\n",
    "    \n",
    "    score: str = dspy.OutputField(desc=\"15 if any code snippet below returns the  workload hours each day for the workspace id in ordered fashion, 12 points if any code snippet below returns workload hours each day for the workspace id but the order is missing, 12 points if grouping is based on date , 0 if no code snippet returns workload hours each day for the workspace id\")\n",
    "\n",
    "    code_snippet: str = dspy.OutputField(desc=\"provide the code snippet which returns the  workload hours each day for the workspace id encapsulated as a string\") "
   ]
  },
  {
   "cell_type": "code",
   "execution_count": 0,
   "metadata": {
    "application/vnd.databricks.v1+cell": {
     "cellMetadata": {},
     "inputWidgets": {},
     "nuid": "0043d6d5-0ac9-4ddb-9123-bf0a1c1917dc",
     "showTitle": false,
     "tableResultSettingsMap": {},
     "title": ""
    }
   },
   "outputs": [],
   "source": [
    "class SQLPrompt5(dspy.Signature):\n",
    "    \"\"\" Check if the provided context has any code snippet which returns interactive node hours per day on the different Spark versions over time \"\"\"\n",
    "\n",
    "    text: str = dspy.InputField()\n",
    "    \n",
    "    score: str = dspy.OutputField(desc=\"15 if any code snippet below returns interactive node hours per day on the different Spark versions over time, 0 if no code snippet returns interactive node hours per day on the different Spark versions over time\")\n",
    "\n",
    "    code_snippet: str = dspy.OutputField(desc=\"provide the code snippet which returns interactive node hours per day on the different Spark versions over time encapsulated as a string\") "
   ]
  },
  {
   "cell_type": "code",
   "execution_count": 0,
   "metadata": {
    "application/vnd.databricks.v1+cell": {
     "cellMetadata": {},
     "inputWidgets": {},
     "nuid": "271fbd58-969a-47e3-b2bf-7a42b1262e7c",
     "showTitle": false,
     "tableResultSettingsMap": {},
     "title": ""
    }
   },
   "outputs": [],
   "source": [
    "class SQLPrompt6(dspy.Signature):\n",
    "    \"\"\" Check if the provided context has any code snippet which returns top two most recently shipped (shipDate) Line Items per Part using window function \"\"\"\n",
    "\n",
    "    text: str = dspy.InputField()\n",
    "    \n",
    "    score: str = dspy.OutputField(desc=\"25 if any code snippet below returns top two most recently shipped (shipDate) Line Items per Part using window function, 20  if any code snippet below returns top two most recently shipped (shipDate) Line Items per Part using subquery, 10 if any code snippet below returns top two most recently shipped (shipDate) Line Items per Part but groups by the key only, 0 if no code snippet returns top two most recently shipped (shipDate) Line Items per Part\")\n",
    "\n",
    "    code_snippet: str = dspy.OutputField(desc=\"provide the code snippet which returns top two most recently shipped (shipDate) Line Items per Part using window function encapsulated as a string\") "
   ]
  }
 ],
 "metadata": {
  "application/vnd.databricks.v1+notebook": {
   "computePreferences": null,
   "dashboards": [],
   "environmentMetadata": {
    "base_environment": "",
    "environment_version": "2"
   },
   "language": "python",
   "notebookMetadata": {
    "pythonIndentUnit": 2
   },
   "notebookName": "prompts_with_DSPy",
   "widgets": {}
  },
  "language_info": {
   "name": "python"
  }
 },
 "nbformat": 4,
 "nbformat_minor": 0
}
