{
 "cells": [
  {
   "cell_type": "code",
   "execution_count": 0,
   "metadata": {
    "application/vnd.databricks.v1+cell": {
     "cellMetadata": {},
     "inputWidgets": {},
     "nuid": "658d4cb7-c263-4d4c-adef-e59d7d0f0dfd",
     "showTitle": false,
     "tableResultSettingsMap": {},
     "title": ""
    }
   },
   "outputs": [],
   "source": [
    "import dspy\n",
    "from typing import ClassVar\n",
    "\n",
    "class BaseSQLPrompt(dspy.Signature):\n",
    "    \"\"\"Base class for SQL-related prompts with common instructions. Do not generate code based on question under any circumstances. You are only supposed to extract the code if it is present in the provided context \"\"\"\n",
    "\n",
    "    text: str = dspy.InputField()\n",
    "    \n",
    "    instructions: ClassVar[str] = (\n",
    "        \"You are an expert in SQL. Analyze the provided context and identify relevant code snippets. It is possible that code snippets might not be available for some questions. DO NOT MAKE UP CODE SNIPPETS IN SUCH A SCENARIO. Return a score of zero if a code snippet is not available for the given question.\"\n",
    "        \"Make sure to accurately score the relevance of the code snippet according to the given criteria. \"\n",
    "        \"If no relevant snippet is found, return a score of 0.\"\n",
    "    )\n",
    "\n",
    "    explanation: str = dspy.OutputField(length=(10, 50), desc=\"Provide an explanation about how the score was determined\")\n"
   ]
  }
 ],
 "metadata": {
  "application/vnd.databricks.v1+notebook": {
   "computePreferences": null,
   "dashboards": [],
   "environmentMetadata": {
    "base_environment": "",
    "environment_version": "2"
   },
   "language": "python",
   "notebookMetadata": {
    "pythonIndentUnit": 2
   },
   "notebookName": "system_prompts",
   "widgets": {}
  },
  "language_info": {
   "name": "python"
  }
 },
 "nbformat": 4,
 "nbformat_minor": 0
}
