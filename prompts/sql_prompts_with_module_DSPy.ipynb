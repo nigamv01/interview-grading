{
 "cells": [
  {
   "cell_type": "code",
   "execution_count": 0,
   "metadata": {
    "application/vnd.databricks.v1+cell": {
     "cellMetadata": {
      "byteLimit": 2048000,
      "rowLimit": 10000
     },
     "inputWidgets": {},
     "nuid": "f96bdedb-f9e7-4d8f-9c50-231b9852cf59",
     "showTitle": false,
     "tableResultSettingsMap": {},
     "title": ""
    }
   },
   "outputs": [],
   "source": [
    "%run ./system_prompts"
   ]
  },
  {
   "cell_type": "code",
   "execution_count": 0,
   "metadata": {
    "application/vnd.databricks.v1+cell": {
     "cellMetadata": {
      "byteLimit": 2048000,
      "rowLimit": 10000
     },
     "inputWidgets": {},
     "nuid": "4a8a4e1f-bb02-4186-af67-6212963db2d2",
     "showTitle": false,
     "tableResultSettingsMap": {},
     "title": ""
    }
   },
   "outputs": [],
   "source": [
    "import dspy"
   ]
  },
  {
   "cell_type": "code",
   "execution_count": 0,
   "metadata": {
    "application/vnd.databricks.v1+cell": {
     "cellMetadata": {
      "byteLimit": 2048000,
      "rowLimit": 10000
     },
     "inputWidgets": {},
     "nuid": "5dedf0ea-d82a-4088-bc81-69e55d741852",
     "showTitle": false,
     "tableResultSettingsMap": {},
     "title": ""
    }
   },
   "outputs": [],
   "source": [
    "class SQLPrompt1(dspy.Signature):\n",
    "    \"\"\" Extract the exact code snippet from the context that creates a table/view called 'workloads' and retrieves its schema. Do not generate any code. \"\"\"\n",
    "\n",
    "    text: str = dspy.InputField()\n",
    "\n",
    "    score: str = dspy.OutputField(\n",
    "        desc=(\n",
    "            \"Assign a score based strictly on the presence of an exact code snippet (python or SQL) in the context: \"\n",
    "            \"15 if an exact code snippet both creates a table/view and retrieves its schema, \"\n",
    "            \"7.5 if an exact code snippet creates a table/view but does not retrieve its schema, \"\n",
    "            \"0 if no such exact code snippet is found in the context. \"\n",
    "            \"If there is any ambiguity or partial match, assign a score of 0.\"\n",
    "        )\n",
    "    )\n",
    "\n",
    "    code_snippet: str = dspy.OutputField(\n",
    "        desc=(\n",
    "            \"Extract the exact code snippet that creates a table/view and retrieves its schema, encapsulated as a string. \"\n",
    "            \"If no such exact match exists in the context, return an empty string.\"\n",
    "        )\n",
    "    )\n",
    "\n",
    "    explanation: str = dspy.OutputField(\n",
    "        length=(10, 250),\n",
    "        desc=(\n",
    "            \"Provide a justification for the assigned score. Clearly explain how the score (15, 7.5, or 0) was determined, \"\n",
    "            \"ensuring that only exact matches are considered.\"\n",
    "        )\n",
    "    )\n",
    "\n",
    "\n",
    "class GenerateAnswerSQLPrompt1(dspy.Module):\n",
    "    def __init__(self):\n",
    "        super().__init__()\n",
    "        self.generate_answer = dspy.ChainOfThought(SQLPrompt1)\n",
    "\n",
    "    def forward(self, context):\n",
    "        return self.generate_answer(text=context)"
   ]
  },
  {
   "cell_type": "code",
   "execution_count": 0,
   "metadata": {
    "application/vnd.databricks.v1+cell": {
     "cellMetadata": {
      "byteLimit": 2048000,
      "rowLimit": 10000
     },
     "inputWidgets": {},
     "nuid": "4bec5627-27ca-4a29-ac10-fb4dc9e50a45",
     "showTitle": false,
     "tableResultSettingsMap": {},
     "title": ""
    }
   },
   "outputs": [],
   "source": [
    "class SQLPrompt2(dspy.Signature):\n",
    "    \"\"\"Extract the exact code snippet from the context that returns only a distinct list of workspaceId. Do not generate any code.\"\"\"\n",
    "\n",
    "    text: str = dspy.InputField()\n",
    "    \n",
    "    score: str = dspy.OutputField(\n",
    "        desc=\"15 if an exact code snippet in the context returns only a distinct list of workspaceId, 0 if no such exact code snippet is found. \"\n",
    "             \"The query must return only the distinct list of workspaceId without additional columns, filters, or aggregations.\"\n",
    "    )\n",
    "    \n",
    "    code_snippet: str = dspy.OutputField(\n",
    "        desc=\"Extract the exact code snippet from the context that returns only a distinct list of workspaceId, encapsulated as a string. \"\n",
    "        \"Return an empty string if no such exact code snippet exists in the context.\"\n",
    "    )\n",
    "    \n",
    "    explanation: str = dspy.OutputField(\n",
    "        length=(10, 250),\n",
    "        desc=\"Provide an explanation of how the score was determined. Clearly justify why a score of 15 or 0 was given, ensuring the query strictly meets the criteria.\"\n",
    "    )"
   ]
  },
  {
   "cell_type": "code",
   "execution_count": 0,
   "metadata": {
    "application/vnd.databricks.v1+cell": {
     "cellMetadata": {},
     "inputWidgets": {},
     "nuid": "ce867b80-2275-4a69-b6b3-bbc10cc6d110",
     "showTitle": false,
     "tableResultSettingsMap": {},
     "title": ""
    }
   },
   "outputs": [],
   "source": [
    "class SQLPrompt3(dspy.Signature):\n",
    "    \"\"\" Extract the exact code snippet from the context that returns the number of unique clusters. Do not generate, modify, or infer any code. \"\"\"\n",
    "\n",
    "    text: str = dspy.InputField()\n",
    "\n",
    "    score: str = dspy.OutputField(\n",
    "        desc=(\n",
    "            \"Strictly assign a score based only on an exact code snippet found in the provided context: \"\n",
    "            \"15 if an exact code snippet in the context returns the number of unique clusters, \"\n",
    "            \"0 if no such exact code snippet is found. \"\n",
    "            \"If there is any ambiguity, partial match, or missing code, assign a score of 0. \"\n",
    "            \"Do not generate, complete, or assume any missing code—only evaluate what is explicitly present.\"\n",
    "        )\n",
    "    )\n",
    "\n",
    "    code_snippet: str = dspy.OutputField(\n",
    "        desc=(\n",
    "            \"Extract only the exact code snippet that returns the number of unique clusters, encapsulated as a string. \"\n",
    "            \"If no such exact match exists in the context, return an empty string. \"\n",
    "            \"Do not generate, modify, rephrase, complete, or assume any code—only copy it verbatim from the provided context.\"\n",
    "        )\n",
    "    )\n",
    "\n",
    "    explanation: str = dspy.OutputField(\n",
    "        length=(10, 250),\n",
    "        desc=(\n",
    "            \"Provide a justification for the assigned score. Clearly explain why a score of 15 or 0 was given, \"\n",
    "            \"strictly based on the presence of an exact code snippet in the context. \"\n",
    "            \"Do not infer or assume missing code. Do not generate or suggest alternatives—only evaluate what is explicitly present.\"\n",
    "        )\n",
    "    )"
   ]
  },
  {
   "cell_type": "code",
   "execution_count": 0,
   "metadata": {
    "application/vnd.databricks.v1+cell": {
     "cellMetadata": {},
     "inputWidgets": {},
     "nuid": "6e69af07-69bd-401e-a157-2bcaf0dd6f75",
     "showTitle": false,
     "tableResultSettingsMap": {},
     "title": ""
    }
   },
   "outputs": [],
   "source": [
    "class SQLPrompt4(dspy.Signature):\n",
    "    \"\"\" Extract the exact code snippet from the context that returns the workload hours each day for the workspace ID in ordered fashion.  \n",
    "        **Do not generate, modify, or suggest any code. Only extract what is explicitly present.**  \n",
    "        **If no matching snippet is found, return an empty string for `code_snippet` and assign a score of 0.**  \n",
    "    \"\"\"\n",
    "\n",
    "    text: str = dspy.InputField()\n",
    "    \n",
    "    score: str = dspy.OutputField(\n",
    "        desc=(\n",
    "            \"Assign a score based strictly on the presence of an exact code snippet in the context: \\n\"\n",
    "            \"- 15 points if a snippet correctly returns workload hours each day for the workspace ID in ordered fashion. \\n\"\n",
    "            \"- 12 points if a snippet returns workload hours each day for the workspace ID but lacks ordering. \\n\"\n",
    "            \"- 12 points if grouping is based on date. \\n\"\n",
    "            \"- 0 points if no such code snippet is explicitly present. \\n\"\n",
    "            \"**If no valid code snippet is found, the score MUST be 0.** \\n\"\n",
    "            \"**Do not generate, modify, or assume missing code. Only evaluate what is explicitly provided.**\"\n",
    "        )\n",
    "    )\n",
    "\n",
    "    code_snippet: str = dspy.OutputField(\n",
    "        desc=(\n",
    "            \"Extract and return the exact code snippet, encapsulated as a string, that matches the criteria. \\n\"\n",
    "            \"- **If no valid snippet is found in the context, return an empty string (`\\\"\\\"`).** \\n\"\n",
    "            \"- **Do not generate, modify, or suggest code—only extract it verbatim from the context.**\"\n",
    "        )\n",
    "    )\n",
    "\n",
    "    explanation: str = dspy.OutputField(\n",
    "        length=(10, 250),\n",
    "        desc=(\n",
    "            \"Justify the assigned score based strictly on the presence of an exact code snippet in the context. \\n\"\n",
    "            \"- Clearly explain why a score of 15, 12, or 0 was given. \\n\"\n",
    "            \"- **If no valid snippet is found, explicitly state that no relevant code was present.** \\n\"\n",
    "            \"- **Do not infer, assume missing code, or generate new code.** \\n\"\n",
    "            \"- **Do not suggest modifications or alternatives—only evaluate what is explicitly provided.**\"\n",
    "        )\n",
    "    )"
   ]
  },
  {
   "cell_type": "code",
   "execution_count": 0,
   "metadata": {
    "application/vnd.databricks.v1+cell": {
     "cellMetadata": {},
     "inputWidgets": {},
     "nuid": "0043d6d5-0ac9-4ddb-9123-bf0a1c1917dc",
     "showTitle": false,
     "tableResultSettingsMap": {},
     "title": ""
    }
   },
   "outputs": [],
   "source": [
    "class SQLPrompt5(dspy.Signature):\n",
    "    \"\"\" Extract the exact code snippet from the context that returns interactive node hours per day on the different Spark versions over time. Do not generate any code \"\"\"\n",
    "\n",
    "    text: str = dspy.InputField()\n",
    "    \n",
    "    score: str = dspy.OutputField(desc=\"15 if an exact code snippet in the context returns interactive node hours per day on the different Spark versions over time, 0 if no such exact code snippet is found.\"\n",
    "        \"The query must return only interactive node hours per day \")\n",
    "\n",
    "    code_snippet: str = dspy.OutputField(desc=\"Extract the code snippet which returns interactive node hours per day on the different Spark versions over time encapsulated as a string\")\n",
    "\n",
    "    explanation: str = dspy.OutputField(\n",
    "        length=(10, 250),\n",
    "        desc=(\n",
    "            \"Provide a justification for the assigned score. Clearly explain why a score of 15 or 0 was given, \"\n",
    "            \"strictly based on the presence of an exact code snippet in the context. \"\n",
    "            \"Do not infer or assume missing code. Do not generate or suggest alternatives—only evaluate what is explicitly present.\"\n",
    "        )\n",
    "    ) "
   ]
  },
  {
   "cell_type": "code",
   "execution_count": 0,
   "metadata": {
    "application/vnd.databricks.v1+cell": {
     "cellMetadata": {},
     "inputWidgets": {},
     "nuid": "271fbd58-969a-47e3-b2bf-7a42b1262e7c",
     "showTitle": false,
     "tableResultSettingsMap": {},
     "title": ""
    }
   },
   "outputs": [],
   "source": [
    "class SQLPrompt6(dspy.Signature):\n",
    "    \"\"\"Extract the exact code snippet from the context which returns top two most recently shipped (shipDate) Line Items per Part using window function. Do not generate any code. \"\"\"\n",
    "\n",
    "    text: str = dspy.InputField()\n",
    "    \n",
    "    score: str = dspy.OutputField(desc=\"25 if any code snippet below returns top two most recently shipped (shipDate) Line Items per Part using window function, 20  if any code snippet below returns top two most recently shipped (shipDate) Line Items per Part using subquery, 10 if any code snippet below returns top two most recently shipped (shipDate) Line Items per Part but groups by the key only, 0 if no code snippet returns top two most recently shipped (shipDate) Line Items per Part\")\n",
    "\n",
    "    code_snippet: str = dspy.OutputField(desc=\"Extract the code snippet which returns top two most recently shipped (shipDate) Line Items per Part using window function encapsulated as a string\")\n",
    "\n",
    "    explanation: str = dspy.OutputField(\n",
    "        length=(10, 250),\n",
    "        desc=(\n",
    "            \"Provide a justification for the assigned score. Clearly explain why a score of 25, 20, 10  or 0 was given, \"\n",
    "            \"strictly based on the presence of an exact code snippet in the context. \"\n",
    "            \"Do not infer or assume missing code. Do not generate or suggest alternatives—only evaluate what is explicitly present.\"\n",
    "        )\n",
    "    )\n"
   ]
  },
  {
   "cell_type": "code",
   "execution_count": 0,
   "metadata": {
    "application/vnd.databricks.v1+cell": {
     "cellMetadata": {},
     "inputWidgets": {},
     "nuid": "4b304f0d-da8f-4aee-ad64-63f7ccf9e89d",
     "showTitle": false,
     "tableResultSettingsMap": {},
     "title": ""
    }
   },
   "outputs": [],
   "source": [
    "class SQLModule1(dspy.Module):\n",
    "    def __init__(self):\n",
    "        super().__init__()\n",
    "        self.module_dict = {\n",
    "                            'module_1': GenerateAnswerSQLPrompt1()\n",
    "                            # 'module_2': dspy.ChainOfThought(SQLPrompt2),\n",
    "                            # 'module_3': dspy.ChainOfThought(SQLPrompt3),\n",
    "                            # 'module_4': dspy.ChainOfThought(SQLPrompt4),\n",
    "                            # 'module_5': dspy.ChainOfThought(SQLPrompt5),\n",
    "                            # 'module_6': dspy.ChainOfThought(SQLPrompt6)\n",
    "                          }\n",
    "    \n",
    "    def get_module_dict(self):\n",
    "      return self.module_dict"
   ]
  }
 ],
 "metadata": {
  "application/vnd.databricks.v1+notebook": {
   "computePreferences": null,
   "dashboards": [],
   "environmentMetadata": {
    "base_environment": "",
    "environment_version": "2"
   },
   "language": "python",
   "notebookMetadata": {
    "pythonIndentUnit": 2
   },
   "notebookName": "sql_prompts_with_module_DSPy",
   "widgets": {}
  },
  "language_info": {
   "name": "python"
  }
 },
 "nbformat": 4,
 "nbformat_minor": 0
}
