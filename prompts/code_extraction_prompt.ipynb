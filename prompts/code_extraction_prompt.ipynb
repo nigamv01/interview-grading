{
 "cells": [
  {
   "cell_type": "code",
   "execution_count": 0,
   "metadata": {
    "application/vnd.databricks.v1+cell": {
     "cellMetadata": {
      "byteLimit": 2048000,
      "rowLimit": 10000
     },
     "inputWidgets": {},
     "nuid": "553b753e-c830-4bf5-85b6-3a3150ef4c80",
     "showTitle": false,
     "tableResultSettingsMap": {},
     "title": ""
    }
   },
   "outputs": [],
   "source": [
    "import dspy\n",
    "from typing import ClassVar"
   ]
  },
  {
   "cell_type": "code",
   "execution_count": 0,
   "metadata": {
    "application/vnd.databricks.v1+cell": {
     "cellMetadata": {
      "byteLimit": 2048000,
      "rowLimit": 10000
     },
     "inputWidgets": {},
     "nuid": "3b5f70a5-6fec-4223-a4c6-7051a99b699b",
     "showTitle": false,
     "tableResultSettingsMap": {},
     "title": ""
    }
   },
   "outputs": [],
   "source": [
    "import dspy\n",
    "class BaseCodeExtractionPrompt(dspy.Signature):\n",
    "\n",
    "    \"\"\"Identify code nsippet which answers below questions   \"\"\"\n",
    "\n",
    "    text: str = dspy.InputField()\n",
    "\n",
    "    # instructions: ClassVar[str] = (\n",
    "    #     \"\"\" Extract code snippet for the following question. \n",
    "    #         The context will have following format\n",
    "    #         [question] \\n [code_snippet] \\n [question\n",
    "    #         DO NOT HALLUCINATE\n",
    "    #     \"\"\"\n",
    "    #     )"
   ]
  },
  {
   "cell_type": "code",
   "execution_count": 0,
   "metadata": {
    "application/vnd.databricks.v1+cell": {
     "cellMetadata": {
      "byteLimit": 2048000,
      "rowLimit": 10000
     },
     "inputWidgets": {},
     "nuid": "44ff3887-03b1-4a41-b6d6-a9d8221042f2",
     "showTitle": false,
     "tableResultSettingsMap": {},
     "title": ""
    }
   },
   "outputs": [],
   "source": [
    "class CodeExtractionPrompt1(BaseCodeExtractionPrompt):\n",
    "    \n",
    "    instructions: ClassVar[str] = (\"\"\" \n",
    "                                      Identify if a code snippet exists in the context which creates a table/view and displays its schema.\n",
    "                                      1. Do not generate a code snippet if it is not present\n",
    "                                      2. Do not edit any other code snippet to create one if a code snippet is not present \n",
    "                                      3. Pay attention to the field names when identifying relevant code_snippet\n",
    "                                   \"\"\")\n",
    "    code_snippet: str =  dspy.OutputField(desc=\"provide the code snippet which creates a table/view and displays its schema encapsulated as a string\")"
   ]
  },
  {
   "cell_type": "code",
   "execution_count": 0,
   "metadata": {
    "application/vnd.databricks.v1+cell": {
     "cellMetadata": {
      "byteLimit": 2048000,
      "rowLimit": 10000
     },
     "inputWidgets": {},
     "nuid": "287240e3-099d-45b1-8fc9-42de27a11c06",
     "showTitle": false,
     "tableResultSettingsMap": {},
     "title": ""
    }
   },
   "outputs": [],
   "source": [
    "class CodeExtractionPrompt2(BaseCodeExtractionPrompt):\n",
    "\n",
    "    instructions: ClassVar[str] = (\"\"\" \n",
    "                                    Identify if a code snippet exists in the context which returns a distinct list of workspace id.\n",
    "                                    \n",
    "                                  1. Do not generate a code snippet if it is not present\n",
    "                                  2. Do not edit any other code snippet to create one if a code snippet is not present \n",
    "                                  3. Pay attention to the field names when identifying relevant code_snippet\n",
    "                                \"\"\")\n",
    "   \n",
    "    code_snippet: str =  dspy.OutputField(desc=\"provide the code snippet which returns a distinct list of workspace id  encapsulated as a string\")"
   ]
  },
  {
   "cell_type": "code",
   "execution_count": 0,
   "metadata": {
    "application/vnd.databricks.v1+cell": {
     "cellMetadata": {
      "byteLimit": 2048000,
      "rowLimit": 10000
     },
     "inputWidgets": {},
     "nuid": "555afa0a-3344-4f59-a737-017444bda79e",
     "showTitle": false,
     "tableResultSettingsMap": {},
     "title": ""
    }
   },
   "outputs": [],
   "source": [
    "code_extraction_module = {\n",
    "  'module_1': dspy.ChainOfThought(CodeExtractionPrompt1),\n",
    "  'module_2': dspy.ChainOfThought(CodeExtractionPrompt2)\n",
    "}"
   ]
  },
  {
   "cell_type": "code",
   "execution_count": 0,
   "metadata": {
    "application/vnd.databricks.v1+cell": {
     "cellMetadata": {},
     "inputWidgets": {},
     "nuid": "6faccd03-8ed7-4e08-ade0-c25a61a80a1d",
     "showTitle": false,
     "tableResultSettingsMap": {},
     "title": ""
    }
   },
   "outputs": [],
   "source": []
  }
 ],
 "metadata": {
  "application/vnd.databricks.v1+notebook": {
   "computePreferences": null,
   "dashboards": [],
   "environmentMetadata": {
    "base_environment": "",
    "environment_version": "2"
   },
   "language": "python",
   "notebookMetadata": {
    "pythonIndentUnit": 2
   },
   "notebookName": "code_extraction_prompt",
   "widgets": {}
  },
  "language_info": {
   "name": "python"
  }
 },
 "nbformat": 4,
 "nbformat_minor": 0
}
