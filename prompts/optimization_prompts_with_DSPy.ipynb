{
 "cells": [
  {
   "cell_type": "code",
   "execution_count": 0,
   "metadata": {
    "application/vnd.databricks.v1+cell": {
     "cellMetadata": {},
     "inputWidgets": {},
     "nuid": "f54922c0-84ac-45b2-b936-80a778954a9e",
     "showTitle": false,
     "tableResultSettingsMap": {},
     "title": ""
    }
   },
   "outputs": [],
   "source": [
    "import dspy"
   ]
  },
  {
   "cell_type": "code",
   "execution_count": 0,
   "metadata": {
    "application/vnd.databricks.v1+cell": {
     "cellMetadata": {},
     "inputWidgets": {},
     "nuid": "5cb4d8ee-833c-43ff-bef0-0d1501c14fd6",
     "showTitle": false,
     "tableResultSettingsMap": {},
     "title": ""
    }
   },
   "outputs": [],
   "source": [
    "class OptimizationPrompt1(dspy.Signature):\n",
    "  \"\"\" Check if in the provided context shuffle partitions or partitions have been set as 1 0r 4\"\"\"\n",
    "\n",
    "  text: str = dspy.InputField()\n",
    "\n",
    "  score: str = dspy.OutputField(desc=\"1 if the extracted code snippet has shuffle partitions or partitions set as 1 or 4, 0 otherwise\")\n",
    "\n",
    "  code_snippet: str = dspy.OutputField(desc=\"provide the code snippet in which paritions has been set as 1 cast as string. Provide complete snippet of code/query\")"
   ]
  },
  {
   "cell_type": "code",
   "execution_count": 0,
   "metadata": {
    "application/vnd.databricks.v1+cell": {
     "cellMetadata": {},
     "inputWidgets": {},
     "nuid": "5fc70928-d79d-47cb-82b5-5bcc60552ed2",
     "showTitle": false,
     "tableResultSettingsMap": {},
     "title": ""
    }
   },
   "outputs": [],
   "source": [
    "class OptimizationPrompt2(dspy.Signature):\n",
    "  \"\"\" Check if udf function fetch was called directly instead of using RestClient class and initiating an object for every call \"\"\"\n",
    "\n",
    "  text: str = dspy.InputField()\n",
    "\n",
    "  score: str = dspy.OutputField(desc=\"1 udf function fetch was called directly instead of using RestClient class and initiating an object for every call, 0 otherwise\")\n",
    "\n",
    "  code_snippet: str = dspy.OutputField(desc=\"provide the code snippet in which udf function fetch was called directly cast as string. Provide complete snippet of code/query\")"
   ]
  },
  {
   "cell_type": "code",
   "execution_count": 0,
   "metadata": {
    "application/vnd.databricks.v1+cell": {
     "cellMetadata": {},
     "inputWidgets": {},
     "nuid": "0bef010f-552a-4a49-8735-35440821c2dd",
     "showTitle": false,
     "tableResultSettingsMap": {},
     "title": ""
    }
   },
   "outputs": [],
   "source": [
    "class OptimizationPrompt3(dspy.Signature):\n",
    "  \"\"\" Check if function fetchUDF is being called directly against citiesDF \"\"\"\n",
    "\n",
    "  text: str = dspy.InputField()\n",
    "\n",
    "  score: str = dspy.OutputField(desc=\"1 if function fetchUDF is being called directly against citiesDF, 0 otherwise\")\n",
    "\n",
    "  code_snippet: str = dspy.OutputField(desc=\"provide the code snippet in which function fetchUDF is being called directly against citiesDF cast as string. Provide complete snippet of code/query\")"
   ]
  },
  {
   "cell_type": "code",
   "execution_count": 0,
   "metadata": {
    "application/vnd.databricks.v1+cell": {
     "cellMetadata": {},
     "inputWidgets": {},
     "nuid": "8098e182-a783-4457-9fa7-220c76d412ff",
     "showTitle": false,
     "tableResultSettingsMap": {},
     "title": ""
    }
   },
   "outputs": [],
   "source": [
    "class OptimizationPrompt4(dspy.Signature):\n",
    "  \"\"\" Check if broadcasting join is used for citiesDF \"\"\"\n",
    "\n",
    "  text: str = dspy.InputField()\n",
    "\n",
    "  score: str = dspy.OutputField(desc=\"1 if broadcasting join is used for citiesDF, 0 otherwise\")\n",
    "\n",
    "  code_snippet: str = dspy.OutputField(desc=\"provide the code snippet in which broadcasting join is used for citiesDF cast as string. Provide complete snippet of code/query\")"
   ]
  },
  {
   "cell_type": "code",
   "execution_count": 0,
   "metadata": {
    "application/vnd.databricks.v1+cell": {
     "cellMetadata": {},
     "inputWidgets": {},
     "nuid": "9dba0793-2b8f-4be7-a7b5-ba879454c1b1",
     "showTitle": false,
     "tableResultSettingsMap": {},
     "title": ""
    }
   },
   "outputs": [],
   "source": [
    "class OptimizationPrompt5(dspy.Signature):\n",
    "  \"\"\" Check if '.repartition(sc.defaultParallelism)' is removed \"\"\"\n",
    "\n",
    "  text: str = dspy.InputField()\n",
    "\n",
    "  score: str = dspy.OutputField(desc=\"1 if repartition(sc.defaultParallelism) or repartition('zip_code') is not used, 0 otherwise\")\n",
    "\n",
    "  code_snippet: str = dspy.OutputField(desc=\"provide the code snippet cast as string. Provide complete snippet of code/query\")"
   ]
  },
  {
   "cell_type": "code",
   "execution_count": 0,
   "metadata": {
    "application/vnd.databricks.v1+cell": {
     "cellMetadata": {},
     "inputWidgets": {},
     "nuid": "3ed3e6db-3460-47b7-b828-f4074716153f",
     "showTitle": false,
     "tableResultSettingsMap": {},
     "title": ""
    }
   },
   "outputs": [],
   "source": [
    "class OptimizationPrompt6(dspy.Signature):\n",
    "  \"\"\" Check if filter on 'state_abv' is applied first before calling UDF \"\"\"\n",
    "\n",
    "  text: str = dspy.InputField()\n",
    "\n",
    "  score: str = dspy.OutputField(desc=\"1 if filter on state_abv is applied first before calling UDF, 0 otherwise\")\n",
    "\n",
    "  code_snippet: str = dspy.OutputField(desc=\"provide the code snippet where filter on state_abv is applied first before calling UDF cast as string. Provide complete snippet of code/query\")"
   ]
  },
  {
   "cell_type": "code",
   "execution_count": 0,
   "metadata": {
    "application/vnd.databricks.v1+cell": {
     "cellMetadata": {},
     "inputWidgets": {},
     "nuid": "fbe1382e-f10f-4b6d-b0b2-2fd6e4cf86e5",
     "showTitle": false,
     "tableResultSettingsMap": {},
     "title": ""
    }
   },
   "outputs": [],
   "source": [
    "class OptimizationPrompt7(dspy.Signature):\n",
    "  \"\"\" Check if selected code will produce 1 job with 2 stages \"\"\"\n",
    "\n",
    "  text: str = dspy.InputField()\n",
    "\n",
    "  score: str = dspy.OutputField(desc=\"1 if selected code will produce 1 job with 2 stages, 0 otherwise\")\n",
    "\n",
    "  code_snippet: str = dspy.OutputField(desc=\"provide the code snippet where selected code will produce 1 job with 2 stages cast as string\")"
   ]
  },
  {
   "cell_type": "code",
   "execution_count": 0,
   "metadata": {
    "application/vnd.databricks.v1+cell": {
     "cellMetadata": {},
     "inputWidgets": {},
     "nuid": "e0fad446-9a77-4d26-b6dc-1329bfdd8f40",
     "showTitle": false,
     "tableResultSettingsMap": {},
     "title": ""
    }
   },
   "outputs": [],
   "source": [
    "class OptimizationPrompt8(dspy.Signature):\n",
    "  \"\"\" Check if schema was specified in selected code \"\"\"\n",
    "\n",
    "  text: str = dspy.InputField()\n",
    "\n",
    "  score: str = dspy.OutputField(desc=\"1 if schema was specified in selected code, 0 otherwise\")\n",
    "\n",
    "  code_snippet: str = dspy.OutputField(desc=\"provide the code snippet schema was specified in selected code cast as string. Provide complete snippet of code/query\")"
   ]
  },
  {
   "cell_type": "code",
   "execution_count": 0,
   "metadata": {
    "application/vnd.databricks.v1+cell": {
     "cellMetadata": {},
     "inputWidgets": {},
     "nuid": "130a8588-1fc1-4498-9c9c-1bc9e67b5e61",
     "showTitle": false,
     "tableResultSettingsMap": {},
     "title": ""
    }
   },
   "outputs": [],
   "source": [
    "module_dict_optimization = {\n",
    "  'module_1': dspy.ChainOfThought(OptimizationPrompt1),\n",
    "  'module_2': dspy.ChainOfThought(OptimizationPrompt2),\n",
    "  'module_3': dspy.ChainOfThought(OptimizationPrompt3),\n",
    "  'module_4': dspy.ChainOfThought(OptimizationPrompt4),\n",
    "  'module_5': dspy.ChainOfThought(OptimizationPrompt5),\n",
    "  'module_6': dspy.ChainOfThought(OptimizationPrompt6),\n",
    "  'module_7': dspy.ChainOfThought(OptimizationPrompt7),\n",
    "  'module_8': dspy.ChainOfThought(OptimizationPrompt8)\n",
    "}"
   ]
  }
 ],
 "metadata": {
  "application/vnd.databricks.v1+notebook": {
   "computePreferences": null,
   "dashboards": [],
   "environmentMetadata": {
    "base_environment": "",
    "environment_version": "2"
   },
   "language": "python",
   "notebookMetadata": {
    "pythonIndentUnit": 2
   },
   "notebookName": "optimization_prompts_with_DSPy",
   "widgets": {}
  },
  "language_info": {
   "name": "python"
  }
 },
 "nbformat": 4,
 "nbformat_minor": 0
}
